{
 "cells": [
  {
   "cell_type": "markdown",
   "metadata": {},
   "source": [
    "# OSM Econ PS5: Rebekah Dix\n"
   ]
  },
  {
   "cell_type": "code",
   "execution_count": 1,
   "metadata": {},
   "outputs": [],
   "source": [
    "# imports\n",
    "import numpy as np\n",
    "import pandas as pd\n",
    "import matplotlib.pyplot as plt\n",
    "import scipy.stats as sts\n",
    "import scipy.optimize as opt\n",
    "import scipy.special as sp\n",
    "import scipy.integrate as integrate\n",
    "import math"
   ]
  },
  {
   "cell_type": "markdown",
   "metadata": {},
   "source": [
    "# Exercise 1"
   ]
  },
  {
   "cell_type": "markdown",
   "metadata": {},
   "source": [
    "## Part (a)"
   ]
  },
  {
   "cell_type": "code",
   "execution_count": 2,
   "metadata": {},
   "outputs": [],
   "source": [
    "# read in data\n",
    "clms = pd.read_csv('clms.txt', header=None)\n",
    "data = np.array(clms[0])"
   ]
  },
  {
   "cell_type": "code",
   "execution_count": 3,
   "metadata": {},
   "outputs": [
    {
     "data": {
      "text/html": [
       "<div>\n",
       "<style scoped>\n",
       "    .dataframe tbody tr th:only-of-type {\n",
       "        vertical-align: middle;\n",
       "    }\n",
       "\n",
       "    .dataframe tbody tr th {\n",
       "        vertical-align: top;\n",
       "    }\n",
       "\n",
       "    .dataframe thead th {\n",
       "        text-align: right;\n",
       "    }\n",
       "</style>\n",
       "<table border=\"1\" class=\"dataframe\">\n",
       "  <thead>\n",
       "    <tr style=\"text-align: right;\">\n",
       "      <th></th>\n",
       "      <th>0</th>\n",
       "    </tr>\n",
       "  </thead>\n",
       "  <tbody>\n",
       "    <tr>\n",
       "      <th>count</th>\n",
       "      <td>10619.000000</td>\n",
       "    </tr>\n",
       "    <tr>\n",
       "      <th>mean</th>\n",
       "      <td>720.277975</td>\n",
       "    </tr>\n",
       "    <tr>\n",
       "      <th>std</th>\n",
       "      <td>3972.850824</td>\n",
       "    </tr>\n",
       "    <tr>\n",
       "      <th>min</th>\n",
       "      <td>0.010000</td>\n",
       "    </tr>\n",
       "    <tr>\n",
       "      <th>25%</th>\n",
       "      <td>74.450000</td>\n",
       "    </tr>\n",
       "    <tr>\n",
       "      <th>50%</th>\n",
       "      <td>172.210000</td>\n",
       "    </tr>\n",
       "    <tr>\n",
       "      <th>75%</th>\n",
       "      <td>451.535000</td>\n",
       "    </tr>\n",
       "    <tr>\n",
       "      <th>max</th>\n",
       "      <td>227967.250000</td>\n",
       "    </tr>\n",
       "  </tbody>\n",
       "</table>\n",
       "</div>"
      ],
      "text/plain": [
       "                   0\n",
       "count   10619.000000\n",
       "mean      720.277975\n",
       "std      3972.850824\n",
       "min         0.010000\n",
       "25%        74.450000\n",
       "50%       172.210000\n",
       "75%       451.535000\n",
       "max    227967.250000"
      ]
     },
     "execution_count": 3,
     "metadata": {},
     "output_type": "execute_result"
    }
   ],
   "source": [
    "# Calculate and report the mean, median, maximum, minimum, \n",
    "# and standard deviation of monthly health expenditures for these data.\n",
    "clms.describe()"
   ]
  },
  {
   "cell_type": "code",
   "execution_count": 4,
   "metadata": {},
   "outputs": [
    {
     "data": {
      "image/png": "[encoded data removed]",
      "text/plain": [
       "<Figure size 720x504 with 1 Axes>"
      ]
     },
     "metadata": {},
     "output_type": "display_data"
    }
   ],
   "source": [
    "fig = plt.figure(figsize=(10,7))\n",
    "density, bin_cuts, patches = plt.hist(data, 1000, density=True, edgecolor='k')\n",
    "plt.title('Histogram of Health Expenditures')\n",
    "plt.xlabel(r'Value of Expenditure (dollars)')\n",
    "plt.ylabel(r'Percent of observations')\n",
    "plt.show()"
   ]
  },
  {
   "cell_type": "code",
   "execution_count": 5,
   "metadata": {},
   "outputs": [
    {
     "data": {
      "image/png": "[encoded data removed]",
      "text/plain": [
       "<Figure size 432x288 with 1 Axes>"
      ]
     },
     "metadata": {},
     "output_type": "display_data"
    }
   ],
   "source": [
    "weights = (1 / data.shape[0]) * np.ones_like(data)\n",
    "mask = data <= 800\n",
    "\n",
    "n, bin_cuts, patches = plt.hist(data[mask], 100, weights=weights[mask], edgecolor='k')\n",
    "plt.title('Histogram of Health Expenditures less than $800')\n",
    "plt.xlabel(r'Value of Expenditure (dollars)')\n",
    "plt.ylabel(r'Percent of observations')\n",
    "plt.show()"
   ]
  },
  {
   "cell_type": "markdown",
   "metadata": {},
   "source": [
    "The second histogram is much more informative. It still contains a majority of the data, but it excludes the outliers so that we are able to see the shape of the distribution (without outliers)."
   ]
  },
  {
   "cell_type": "markdown",
   "metadata": {},
   "source": [
    "## Part (b)"
   ]
  },
  {
   "cell_type": "code",
   "execution_count": 6,
   "metadata": {},
   "outputs": [],
   "source": [
    "# Define gamma distribution\n",
    "def gamma_pdf(x, alpha, beta):\n",
    "    f = (1 / (beta ** alpha * math.gamma(alpha))) * x ** (alpha - 1) * np.exp(-1 * x / beta)\n",
    "    return f"
   ]
  },
  {
   "cell_type": "code",
   "execution_count": 7,
   "metadata": {},
   "outputs": [],
   "source": [
    "# Define log likelihood function for the gamma distribution\n",
    "def log_lik_gamma(xvals, alpha, beta):\n",
    "    '''\n",
    "    --------------------------------------------------------------------\n",
    "    Compute the log likelihood function for data xvals given gamma\n",
    "    distribution parameters alpha and beta.\n",
    "    --------------------------------------------------------------------\n",
    "    INPUTS:\n",
    "    xvals  = (N,) vector, values of the gamma distributed random\n",
    "             variable\n",
    "    alpha  = \n",
    "    beta   = \n",
    "    \n",
    "    OTHER FUNCTIONS AND FILES CALLED BY THIS FUNCTION:\n",
    "        sts.gamma.pdf()\n",
    "    \n",
    "    OBJECTS CREATED WITHIN FUNCTION:\n",
    "    pdf_vals    = (N,) vector, gamma PDF values for alpha and beta\n",
    "                  corresponding to xvals data\n",
    "    ln_pdf_vals = (N,) vector, natural logarithm of gamma PDF values\n",
    "                  for alpha and beta corresponding to xvals data\n",
    "    log_lik_val = scalar, value of the log likelihood function\n",
    "    \n",
    "    FILES CREATED BY THIS FUNCTION: None\n",
    "    \n",
    "    RETURNS: log_lik_val\n",
    "    --------------------------------------------------------------------\n",
    "    '''\n",
    "    pdf_vals = gamma_pdf(xvals, alpha,beta)\n",
    "    ln_pdf_vals = np.log(pdf_vals)\n",
    "    log_lik_val = ln_pdf_vals.sum()\n",
    "    \n",
    "    return log_lik_val"
   ]
  },
  {
   "cell_type": "code",
   "execution_count": 8,
   "metadata": {},
   "outputs": [],
   "source": [
    "def crit(params, *args):\n",
    "    '''\n",
    "    --------------------------------------------------------------------\n",
    "    This function computes the negative of the log likelihood function\n",
    "    given parameters and data. This is the minimization problem version\n",
    "    of the maximum likelihood optimization problem\n",
    "    --------------------------------------------------------------------\n",
    "    INPUTS:\n",
    "    params = (2,) vector, ([alpha, beta])\n",
    "    alpha  = \n",
    "    beta   =\n",
    "    args   = vector of xvals\n",
    "    xvals  = (N,) vector, values of the gamma distributed random\n",
    "             variable\n",
    "    \n",
    "    OTHER FUNCTIONS AND FILES CALLED BY THIS FUNCTION:\n",
    "        log_lik_gamma()\n",
    "    \n",
    "    OBJECTS CREATED WITHIN FUNCTION:\n",
    "    log_lik_val = scalar, value of the log likelihood function\n",
    "    neg_log_lik_val = scalar, negative of log_lik_val\n",
    "    \n",
    "    FILES CREATED BY THIS FUNCTION: None\n",
    "    \n",
    "    RETURNS: neg_log_lik_val\n",
    "    --------------------------------------------------------------------\n",
    "    '''\n",
    "    alpha, beta = params\n",
    "    xvals = args[0]\n",
    "    log_lik_val = log_lik_gamma(xvals, alpha, beta)\n",
    "    neg_log_lik_val = -log_lik_val\n",
    "    \n",
    "    return neg_log_lik_val"
   ]
  },
  {
   "cell_type": "code",
   "execution_count": 9,
   "metadata": {},
   "outputs": [
    {
     "name": "stdout",
     "output_type": "stream",
     "text": [
      "alpha_MLE= 0.22175096367057023 , beta_MLE= 21913.1282767136\n",
      "MLE log-likelihood:  -82076.64049645475\n"
     ]
    }
   ],
   "source": [
    "beta_init = clms.var() / clms.mean()  \n",
    "alpha_init = clms.mean() / beta_init\n",
    "params_init = np.array([alpha_init, beta_init])\n",
    "results = opt.minimize(crit, params_init, args=data, \n",
    "                       method ='L-BFGS-B', bounds=((1e-5, None), (1e-5, None)))\n",
    "alpha_MLE, beta_MLE = results.x\n",
    "print('alpha_MLE=', alpha_MLE, ', beta_MLE=', beta_MLE)\n",
    "MLE_ga = log_lik_gamma(data, alpha_MLE, beta_MLE)\n",
    "print('MLE log-likelihood: ', MLE_ga)"
   ]
  },
  {
   "cell_type": "code",
   "execution_count": 10,
   "metadata": {},
   "outputs": [
    {
     "data": {
      "image/png": "[encoded data removed]",
      "text/plain": [
       "<Figure size 720x504 with 1 Axes>"
      ]
     },
     "metadata": {},
     "output_type": "display_data"
    }
   ],
   "source": [
    "fig = plt.figure(figsize=(10,7))\n",
    "# Plot MLE estimated distribution\n",
    "dist_points = np.linspace(1e-5, 800, 100)\n",
    "plt.plot(dist_points, 8 * gamma_pdf(dist_points, alpha_MLE, beta_MLE), lw=3, color='r',label='Gamma MLE')\n",
    "# Plot data\n",
    "weights = (1 / data.shape[0]) * np.ones_like(data)\n",
    "mask = data <= 800\n",
    "plt.hist(data[mask], 100, weights=weights[mask], color='b', edgecolor='k')\n",
    "plt.title('Histogram of Health Expenditures less than $800')\n",
    "plt.xlabel(r'Value of Expenditure (dollars)')\n",
    "plt.ylabel(r'Percent of observations')\n",
    "plt.ylim(0, .05)\n",
    "plt.legend()\n",
    "plt.show()"
   ]
  },
  {
   "cell_type": "markdown",
   "metadata": {},
   "source": [
    "## Part (c)"
   ]
  },
  {
   "cell_type": "code",
   "execution_count": 11,
   "metadata": {},
   "outputs": [],
   "source": [
    "def gen_gamma(x, alpha, beta, m):\n",
    "    '''Define the pdf of the three-parameter generalized gamma distribution.'''\n",
    "    f = (m / (beta ** alpha * math.gamma(alpha / m))) * x ** (alpha - 1) * np.exp( -1 * (x / beta) ** m)\n",
    "    return f"
   ]
  },
  {
   "cell_type": "code",
   "execution_count": 12,
   "metadata": {},
   "outputs": [],
   "source": [
    "# Define log likelihood function for the gamma distribution\n",
    "def log_lik_gen_gamma(xvals, alpha, beta, m):\n",
    "    '''\n",
    "    --------------------------------------------------------------------\n",
    "    Compute the log likelihood function for data xvals given generalized\n",
    "    gamma distribution parameters alpha, beta, and m.\n",
    "    --------------------------------------------------------------------\n",
    "    '''\n",
    "    pdf_vals = gen_gamma(xvals, alpha, beta, m)\n",
    "    ln_pdf_vals = np.log(pdf_vals)\n",
    "    log_lik_val = ln_pdf_vals.sum()\n",
    "    \n",
    "    return log_lik_val"
   ]
  },
  {
   "cell_type": "code",
   "execution_count": 13,
   "metadata": {},
   "outputs": [],
   "source": [
    "def crit(params, *args):\n",
    "    '''\n",
    "    --------------------------------------------------------------------\n",
    "    This function computes the negative of the log likelihood function\n",
    "    given parameters and data. This is the minimization problem version\n",
    "    of the maximum likelihood optimization problem\n",
    "    --------------------------------------------------------------------\n",
    "    '''\n",
    "    alpha, beta, m = params\n",
    "    xvals = args[0]\n",
    "    log_lik_val = log_lik_gen_gamma(xvals, alpha, beta, m)\n",
    "    neg_log_lik_val = -log_lik_val\n",
    "    \n",
    "    return neg_log_lik_val"
   ]
  },
  {
   "cell_type": "code",
   "execution_count": 14,
   "metadata": {},
   "outputs": [
    {
     "name": "stdout",
     "output_type": "stream",
     "text": [
      "alpha_MLE= 0.22175096367057023 , beta_MLE= 21913.1282767136 , m_MLE= 0.9970557494972939\n",
      "MLE log-likelihood:  -82076.63563075713\n"
     ]
    }
   ],
   "source": [
    "beta_init = beta_MLE\n",
    "alpha_init = alpha_MLE\n",
    "m_init = 1\n",
    "params_init = np.array([alpha_init, beta_init, m_init])\n",
    "results = opt.minimize(crit, params_init, args=data, \n",
    "                       method ='L-BFGS-B', bounds=((1e-5, None), (1e-5, None), (1e-5, None)))\n",
    "alpha_MLE1, beta_MLE1, m_MLE1 = results.x\n",
    "print('alpha_MLE=', alpha_MLE, ', beta_MLE=', beta_MLE, ', m_MLE=', m_MLE1)\n",
    "MLE_gga = log_lik_gen_gamma(data, alpha_MLE1, beta_MLE1, m_MLE1)\n",
    "print('MLE log-likelihood: ', MLE_gga)"
   ]
  },
  {
   "cell_type": "code",
   "execution_count": 15,
   "metadata": {},
   "outputs": [
    {
     "data": {
      "image/png": "[encoded data removed]",
      "text/plain": [
       "<Figure size 720x504 with 1 Axes>"
      ]
     },
     "metadata": {},
     "output_type": "display_data"
    }
   ],
   "source": [
    "fig = plt.figure(figsize=(10,7))\n",
    "# Plot MLE estimated distribution\n",
    "dist_points = np.linspace(1e-5, 800, 100)\n",
    "plt.plot(dist_points, 8 * gen_gamma(dist_points, alpha_MLE1, beta_MLE1, m_MLE1), lw=3, color='r',label='Gen Gamma MLE')\n",
    "# Plot data\n",
    "weights = (1 / data.shape[0]) * np.ones_like(data)\n",
    "mask = data <= 800\n",
    "plt.hist(data[mask], 100, weights=weights[mask], color='b', edgecolor='k')\n",
    "plt.title('Histogram of Health Expenditures less than $800')\n",
    "plt.xlabel(r'Value of Expenditure (dollars)')\n",
    "plt.ylabel(r'Percent of observations')\n",
    "plt.ylim(0, .05)\n",
    "plt.legend()\n",
    "plt.show()"
   ]
  },
  {
   "cell_type": "markdown",
   "metadata": {},
   "source": [
    "## Part (d)"
   ]
  },
  {
   "cell_type": "code",
   "execution_count": 16,
   "metadata": {},
   "outputs": [],
   "source": [
    "def gen_beta2(x, a, b, p, q):\n",
    "    '''Define the pdf of the generalized beta 2 distribution.'''\n",
    "    f = a * (x ** (a*p-1)) / ((b ** (a*p)) * sp.beta(p,q) * ((1 + (x / b) ** a) ** (p + q)))\n",
    "    return f"
   ]
  },
  {
   "cell_type": "code",
   "execution_count": 17,
   "metadata": {},
   "outputs": [],
   "source": [
    "# Define log likelihood function for the gamma distribution\n",
    "def log_lik_gen_beta2(xvals, a, b, p, q):\n",
    "    '''\n",
    "    --------------------------------------------------------------------\n",
    "    Compute the log likelihood function for data xvals given generalized\n",
    "    beta 2 distribution parameters a, b, p, q.\n",
    "    --------------------------------------------------------------------\n",
    "    '''\n",
    "    pdf_vals = gen_beta2(xvals, a, b, p, q)\n",
    "    ln_pdf_vals = np.log(pdf_vals)\n",
    "    log_lik_val = ln_pdf_vals.sum()\n",
    "    \n",
    "    return log_lik_val"
   ]
  },
  {
   "cell_type": "code",
   "execution_count": 18,
   "metadata": {},
   "outputs": [],
   "source": [
    "def crit(params, *args):\n",
    "    '''\n",
    "    --------------------------------------------------------------------\n",
    "    This function computes the negative of the log likelihood function\n",
    "    given parameters and data. This is the minimization problem version\n",
    "    of the maximum likelihood optimization problem\n",
    "    --------------------------------------------------------------------\n",
    "    '''\n",
    "    a, b, p, q = params\n",
    "    xvals = args[0]\n",
    "    log_lik_val = log_lik_gen_beta2(xvals, a, b, p, q)\n",
    "    neg_log_lik_val = -log_lik_val\n",
    "    \n",
    "    return neg_log_lik_val"
   ]
  },
  {
   "cell_type": "code",
   "execution_count": 19,
   "metadata": {},
   "outputs": [
    {
     "name": "stdout",
     "output_type": "stream",
     "text": [
      "a_MLE= 0.10140179930831576 , b_MLE= 4451733.787558642 , p_MLE= 58.617003082332126 q_MLE 162.09427270840197\n",
      "MLE log-likelihood:  -74874.4578040046\n"
     ]
    }
   ],
   "source": [
    "q_init = 200\n",
    "b_init = (q_init**(1 / m_MLE1))*beta_MLE1\n",
    "a_init = m_MLE1\n",
    "p_init = alpha_MLE1 / m_MLE1\n",
    "\n",
    "params_init = np.array([a_init, b_init, p_init, q_init])\n",
    "results = opt.minimize(crit, params_init, args=data, \n",
    "                       method ='L-BFGS-B', bounds=((1e-5, None), (1e-5, None), (1e-5, None), (1e-5, None)))\n",
    "a_MLE2, b_MLE2, p_MLE2, q_MLE2 = results.x\n",
    "print('a_MLE=', a_MLE2, ', b_MLE=', b_MLE2, ', p_MLE=', p_MLE2, 'q_MLE', q_MLE2)\n",
    "MLE_gb = log_lik_gen_beta2(data, a_MLE2, b_MLE2, p_MLE2, q_MLE2)\n",
    "print('MLE log-likelihood: ', MLE_gb)"
   ]
  },
  {
   "cell_type": "code",
   "execution_count": 20,
   "metadata": {},
   "outputs": [
    {
     "data": {
      "image/png": "[encoded data removed]",
      "text/plain": [
       "<Figure size 720x504 with 1 Axes>"
      ]
     },
     "metadata": {},
     "output_type": "display_data"
    }
   ],
   "source": [
    "fig = plt.figure(figsize=(10,7))\n",
    "# Plot MLE estimated distribution\n",
    "dist_points = np.linspace(1e-5, 800, 100)\n",
    "plt.plot(dist_points, 8 * gen_beta2(dist_points, a_MLE2, b_MLE2, p_MLE2, q_MLE2), lw=3, color='r',label='Gen Beta2 MLE')\n",
    "# Plot data\n",
    "weights = (1 / data.shape[0]) * np.ones_like(data)\n",
    "mask = data <= 800\n",
    "plt.hist(data[mask], 100, weights=weights[mask], color='b', edgecolor='k')\n",
    "plt.title('Histogram of Health Expenditures less than $800')\n",
    "plt.xlabel(r'Value of Expenditure (dollars)')\n",
    "plt.ylabel(r'Percent of observations')\n",
    "plt.ylim(0, .05)\n",
    "plt.legend()\n",
    "plt.show()"
   ]
  },
  {
   "cell_type": "markdown",
   "metadata": {},
   "source": [
    "## Part (e)"
   ]
  },
  {
   "cell_type": "code",
   "execution_count": 21,
   "metadata": {},
   "outputs": [
    {
     "name": "stdout",
     "output_type": "stream",
     "text": [
      "chi squared of GA with GB2, 4 degrees of freedom, p-value =  0.0\n",
      "chi squared of GG with GB2, 4 degrees of freedom, p-value =  0.0\n"
     ]
    }
   ],
   "source": [
    "def likelihood_ratio(lmin, lmax):\n",
    "    return(2*abs((lmax-lmin)))\n",
    "\n",
    "LR1 = likelihood_ratio(MLE_ga, MLE_gb)\n",
    "p1 = 1 - sts.chi2.cdf(LR1, 4) \n",
    "\n",
    "LR2 = likelihood_ratio(MLE_gga, MLE_gb)\n",
    "p2 = 1 - sts.chi2.cdf(LR2, 4)\n",
    "\n",
    "print('chi squared of GA with GB2, 4 degrees of freedom, p-value = ', p1)\n",
    "print('chi squared of GG with GB2, 4 degrees of freedom, p-value = ', p2)"
   ]
  },
  {
   "cell_type": "markdown",
   "metadata": {},
   "source": [
    "## Part (f)"
   ]
  },
  {
   "cell_type": "code",
   "execution_count": 22,
   "metadata": {},
   "outputs": [
    {
     "name": "stdout",
     "output_type": "stream",
     "text": [
      "Probability of GB2 of healthcare claim above 1000:  0.13125109438748755\n",
      "Probability of GA of healthcare claim above 1000:  0.4519639472347076\n"
     ]
    }
   ],
   "source": [
    "from scipy import integrate\n",
    "prob_GB2 = integrate.quad(gen_beta2, 1000, np.inf, \n",
    "                          args = (a_MLE2, b_MLE2, p_MLE2, q_MLE2))\n",
    "                                                              \n",
    "prob_GA = integrate.quad(gamma_pdf, 1000, np.inf,\n",
    "                              args = (alpha_MLE, beta_MLE))\n",
    "print(\"Probability of GB2 of healthcare claim above 1000: \", prob_GB2[0])\n",
    "print(\"Probability of GA of healthcare claim above 1000: \", prob_GA[0])"
   ]
  },
  {
   "cell_type": "markdown",
   "metadata": {},
   "source": [
    "# Exercise 2"
   ]
  },
  {
   "cell_type": "code",
   "execution_count": 23,
   "metadata": {},
   "outputs": [],
   "source": [
    "macro = pd.read_csv('MacroSeries.txt', header=None)\n",
    "macro.columns = ['c', 'k', 'w', 'r', 'y']"
   ]
  },
  {
   "cell_type": "code",
   "execution_count": 24,
   "metadata": {},
   "outputs": [
    {
     "data": {
      "text/html": [
       "<div>\n",
       "<style scoped>\n",
       "    .dataframe tbody tr th:only-of-type {\n",
       "        vertical-align: middle;\n",
       "    }\n",
       "\n",
       "    .dataframe tbody tr th {\n",
       "        vertical-align: top;\n",
       "    }\n",
       "\n",
       "    .dataframe thead th {\n",
       "        text-align: right;\n",
       "    }\n",
       "</style>\n",
       "<table border=\"1\" class=\"dataframe\">\n",
       "  <thead>\n",
       "    <tr style=\"text-align: right;\">\n",
       "      <th></th>\n",
       "      <th>c</th>\n",
       "      <th>k</th>\n",
       "      <th>w</th>\n",
       "      <th>r</th>\n",
       "      <th>y</th>\n",
       "    </tr>\n",
       "  </thead>\n",
       "  <tbody>\n",
       "    <tr>\n",
       "      <th>0</th>\n",
       "      <td>1.128323e+07</td>\n",
       "      <td>8.040697e+06</td>\n",
       "      <td>1.120211e+07</td>\n",
       "      <td>1.008852</td>\n",
       "      <td>1.931398e+07</td>\n",
       "    </tr>\n",
       "    <tr>\n",
       "      <th>1</th>\n",
       "      <td>1.215464e+07</td>\n",
       "      <td>8.030754e+06</td>\n",
       "      <td>1.206726e+07</td>\n",
       "      <td>1.088112</td>\n",
       "      <td>2.080561e+07</td>\n",
       "    </tr>\n",
       "    <tr>\n",
       "      <th>2</th>\n",
       "      <td>1.097303e+07</td>\n",
       "      <td>8.650974e+06</td>\n",
       "      <td>1.089414e+07</td>\n",
       "      <td>0.911904</td>\n",
       "      <td>1.878300e+07</td>\n",
       "    </tr>\n",
       "    <tr>\n",
       "      <th>3</th>\n",
       "      <td>9.711635e+06</td>\n",
       "      <td>7.809971e+06</td>\n",
       "      <td>9.641815e+06</td>\n",
       "      <td>0.893986</td>\n",
       "      <td>1.662382e+07</td>\n",
       "    </tr>\n",
       "    <tr>\n",
       "      <th>4</th>\n",
       "      <td>9.245673e+06</td>\n",
       "      <td>6.912184e+06</td>\n",
       "      <td>9.179203e+06</td>\n",
       "      <td>0.961637</td>\n",
       "      <td>1.582621e+07</td>\n",
       "    </tr>\n",
       "  </tbody>\n",
       "</table>\n",
       "</div>"
      ],
      "text/plain": [
       "              c             k             w         r             y\n",
       "0  1.128323e+07  8.040697e+06  1.120211e+07  1.008852  1.931398e+07\n",
       "1  1.215464e+07  8.030754e+06  1.206726e+07  1.088112  2.080561e+07\n",
       "2  1.097303e+07  8.650974e+06  1.089414e+07  0.911904  1.878300e+07\n",
       "3  9.711635e+06  7.809971e+06  9.641815e+06  0.893986  1.662382e+07\n",
       "4  9.245673e+06  6.912184e+06  9.179203e+06  0.961637  1.582621e+07"
      ]
     },
     "execution_count": 24,
     "metadata": {},
     "output_type": "execute_result"
    }
   ],
   "source": [
    "macro.head()"
   ]
  },
  {
   "cell_type": "markdown",
   "metadata": {},
   "source": [
    "## Part (a)"
   ]
  },
  {
   "cell_type": "code",
   "execution_count": 25,
   "metadata": {},
   "outputs": [],
   "source": [
    "def calc_z(w, k, alpha):\n",
    "    ''' Calculate z from w, k, and alpha.'''\n",
    "    z = np.log(w / ((1 - alpha) * k ** alpha))\n",
    "    \n",
    "    return z"
   ]
  },
  {
   "cell_type": "code",
   "execution_count": 26,
   "metadata": {},
   "outputs": [],
   "source": [
    "def log_lik_z(w, k, alpha, rho, mu, sigma):\n",
    "    '''Return log likelihood of a series of z.'''\n",
    "    z_series = calc_z(w, k, alpha)\n",
    "    log_lik_val = 0\n",
    "    for index, z_val in enumerate(z_series):\n",
    "        if index == 0:\n",
    "            pdf_val = sts.norm.pdf(mu, loc=mu, scale=sigma)\n",
    "        else:\n",
    "            pdf_val = sts.norm.pdf(z_val, loc=(rho * z_series[index-1] + (1 - rho)*mu), scale=sigma)\n",
    "        ln_pdf_val = np.log(pdf_val)\n",
    "        log_lik_val += ln_pdf_val\n",
    "    \n",
    "    return log_lik_val"
   ]
  },
  {
   "cell_type": "code",
   "execution_count": 27,
   "metadata": {},
   "outputs": [],
   "source": [
    "def crit(params, *args):\n",
    "    '''Compute the negative of the log likelihood function\n",
    "    given parameters and data.'''\n",
    "    alpha, rho, mu, sigma = params\n",
    "    w, k = args\n",
    "    log_lik_val = log_lik_z(w, k, alpha, rho, mu, sigma)\n",
    "    neg_log_lik_val = -log_lik_val\n",
    "    \n",
    "    return neg_log_lik_val"
   ]
  },
  {
   "cell_type": "code",
   "execution_count": 28,
   "metadata": {},
   "outputs": [
    {
     "name": "stdout",
     "output_type": "stream",
     "text": [
      "alpha_MLE=  0.8246325243031751 \n",
      "rho_MLE=  0.5534296043725 \n",
      "mu_MLE= 4.809713117247751  \n",
      "sig_MLE= 0.09278011396252836\n",
      "Log-likelihood=  -95.85827568148886\n"
     ]
    }
   ],
   "source": [
    "# Initial Guesses\n",
    "alpha_init = .5\n",
    "rho_init = .5\n",
    "mu_init = 5\n",
    "sig_init = .2\n",
    "params_init = np.array([alpha_init, rho_init, mu_init, sig_init])\n",
    "mle_args = (macro.w, macro.k)\n",
    "results = opt.minimize(crit, params_init, args=mle_args, method ='L-BFGS-B', \n",
    "                             bounds=((1e-2, 0.99), (-0.99, 0.99), (1e-2, None), (1e-2, None)))\n",
    "alpha_MLE, rho_MLE, mu_MLE, sig_MLE = results.x\n",
    "log_like_val = results.fun\n",
    "print('alpha_MLE= ', alpha_MLE, '\\nrho_MLE= ', rho_MLE, '\\nmu_MLE=', mu_MLE, ' \\nsig_MLE=', sig_MLE)\n",
    "print('Log-likelihood= ', results.fun)"
   ]
  },
  {
   "cell_type": "code",
   "execution_count": 29,
   "metadata": {},
   "outputs": [
    {
     "name": "stdout",
     "output_type": "stream",
     "text": [
      "[[ 2.85057500e+01 -2.30945023e+01 -2.85272061e+02  8.24983371e-01]\n",
      " [-2.30945023e+01  6.05365846e+01  2.27728709e+02 -1.96439552e+00]\n",
      " [-2.85272061e+02  2.27728709e+02  2.85515326e+03 -8.15019258e+00]\n",
      " [ 8.24983371e-01 -1.96439552e+00 -8.15019258e+00  6.41748057e-02]]\n"
     ]
    }
   ],
   "source": [
    "# Inverse hessian variance-covariance matrix of your estimates.\n",
    "vcv_mle = results.hess_inv.todense()\n",
    "print(vcv_mle)"
   ]
  },
  {
   "cell_type": "markdown",
   "metadata": {},
   "source": [
    "## Part (b)"
   ]
  },
  {
   "cell_type": "code",
   "execution_count": 30,
   "metadata": {},
   "outputs": [],
   "source": [
    "def calc_z(r, k, alpha):\n",
    "    ''' Calculate z from r, k, and alpha.'''\n",
    "    z = np.log(r / (alpha * k ** (alpha - 1)))\n",
    "    \n",
    "    return z"
   ]
  },
  {
   "cell_type": "code",
   "execution_count": 31,
   "metadata": {},
   "outputs": [],
   "source": [
    "def log_lik_z(r, k, alpha, rho, mu, sigma):\n",
    "    '''Return log likelihood of a series of z.'''\n",
    "    z_series = calc_z(r, k, alpha)\n",
    "    log_lik_val = 0\n",
    "    for index, z_val in enumerate(z_series):\n",
    "        if index == 0:\n",
    "            pdf_val = sts.norm.pdf(mu, loc=mu, scale=sigma)\n",
    "        else:\n",
    "            pdf_val = sts.norm.pdf(z_val, loc=(rho * z_series[index-1] + (1 - rho)*mu), scale=sigma)\n",
    "        ln_pdf_val = np.log(pdf_val)\n",
    "        log_lik_val += ln_pdf_val\n",
    "    \n",
    "    return log_lik_val"
   ]
  },
  {
   "cell_type": "code",
   "execution_count": 32,
   "metadata": {},
   "outputs": [],
   "source": [
    "def crit(params, *args):\n",
    "    '''Compute the negative of the log likelihood function\n",
    "    given parameters and data.'''\n",
    "    alpha, rho, mu, sigma = params\n",
    "    r, k = args\n",
    "    log_lik_val = log_lik_z(r, k, alpha, rho, mu, sigma)\n",
    "    neg_log_lik_val = -log_lik_val\n",
    "    \n",
    "    return neg_log_lik_val"
   ]
  },
  {
   "cell_type": "code",
   "execution_count": 33,
   "metadata": {},
   "outputs": [
    {
     "name": "stdout",
     "output_type": "stream",
     "text": [
      "alpha_MLE=  0.5533866818665817 \n",
      "rho_MLE=  0.8246552488578388 \n",
      "mu_MLE= 7.569642029480069  \n",
      "sig_MLE= 0.09278046258725611\n",
      "Log-likelihood=  -95.85827567964951\n"
     ]
    }
   ],
   "source": [
    "# Initial Guesses\n",
    "alpha_init = .8\n",
    "rho_init = .5\n",
    "mu_init = 5\n",
    "sig_init = .1\n",
    "params_init = np.array([alpha_init, rho_init, mu_init, sig_init])\n",
    "mle_args = (macro.r, macro.k)\n",
    "results = opt.minimize(crit, params_init, args=mle_args, method ='L-BFGS-B', \n",
    "                             bounds=((1e-2, 0.99), (-0.99, 0.99), (1e-2, None), (1e-2, None)))\n",
    "alpha_MLE2, rho_MLE2, mu_MLE2, sig_MLE2 = results.x\n",
    "log_like_val = results.fun\n",
    "print('alpha_MLE= ', alpha_MLE2, '\\nrho_MLE= ', rho_MLE2, '\\nmu_MLE=', mu_MLE2, ' \\nsig_MLE=', sig_MLE2)\n",
    "print('Log-likelihood= ', results.fun)"
   ]
  },
  {
   "cell_type": "code",
   "execution_count": 34,
   "metadata": {},
   "outputs": [
    {
     "name": "stdout",
     "output_type": "stream",
     "text": [
      "[[ 1.02332040e+00  2.14818179e+00 -1.77912062e+01 -1.11073817e-01]\n",
      " [ 2.14818179e+00  5.56176158e+00 -3.75377718e+01 -2.95681552e-01]\n",
      " [-1.77912062e+01 -3.75377718e+01  3.09359306e+02  1.94333581e+00]\n",
      " [-1.11073817e-01 -2.95681552e-01  1.94333581e+00  1.59281768e-02]]\n"
     ]
    }
   ],
   "source": [
    "# Inverse hessian variance-covariance matrix of your estimates.\n",
    "vcv_mle = results.hess_inv.todense()\n",
    "print(vcv_mle)"
   ]
  },
  {
   "cell_type": "markdown",
   "metadata": {},
   "source": [
    "## Part (c)"
   ]
  },
  {
   "cell_type": "code",
   "execution_count": 35,
   "metadata": {},
   "outputs": [
    {
     "name": "stdout",
     "output_type": "stream",
     "text": [
      "0.0 1.0\n"
     ]
    }
   ],
   "source": [
    "def get_zstar(k, alpha):\n",
    "    return np.log(1 / (alpha * k ** (alpha - 1)))\n",
    "zstar = get_zstar(7500000, alpha_MLE)\n",
    "prob = sts.norm.cdf(zstar, loc=(rho_MLE * 10 + (1 - rho_MLE) * mu_MLE), scale=sig_MLE)\n",
    "res = 1 - prob\n",
    "print(prob, res)"
   ]
  },
  {
   "cell_type": "markdown",
   "metadata": {},
   "source": [
    "The probability that the interest rate this period will be greater than one under these conditions is very close to one."
   ]
  },
  {
   "cell_type": "markdown",
   "metadata": {},
   "source": [
    "## Exercise 3"
   ]
  },
  {
   "cell_type": "code",
   "execution_count": 36,
   "metadata": {},
   "outputs": [],
   "source": [
    "incomes = np.loadtxt('usincmoms.txt', delimiter='\\t')\n",
    "percent = incomes[:,0]\n",
    "midpoint = incomes[:,1]\n",
    "avg_inc = np.mean(percent @ midpoint)"
   ]
  },
  {
   "cell_type": "markdown",
   "metadata": {},
   "source": [
    "### Part (a)"
   ]
  },
  {
   "cell_type": "code",
   "execution_count": 37,
   "metadata": {},
   "outputs": [
    {
     "data": {
      "image/png": "[encoded data removed]",
      "text/plain": [
       "<Figure size 720x504 with 1 Axes>"
      ]
     },
     "metadata": {},
     "output_type": "display_data"
    }
   ],
   "source": [
    "fig = plt.figure(figsize=(10,7))\n",
    "\n",
    "# Adjust the height of the final two bars of the income distribution\n",
    "modified_height = np.copy(percent)\n",
    "modified_height[40] = modified_height[40]/10\n",
    "modified_height[41] = modified_height[41]/20\n",
    "widtharr = 5 * np.ones(42)\n",
    "widtharr[40] *= 10\n",
    "widtharr[41] *= 20\n",
    "\n",
    "plt.bar(midpoint/1000, modified_height, color='blue', edgecolor='k', align='center', width=widtharr)\n",
    "plt.xlabel('Thousands of Dollars')\n",
    "plt.ylabel('Percent of Population')\n",
    "plt.title('US Incomes')\n",
    "plt.show()"
   ]
  },
  {
   "cell_type": "markdown",
   "metadata": {},
   "source": [
    "## Part (b)"
   ]
  },
  {
   "cell_type": "code",
   "execution_count": 38,
   "metadata": {},
   "outputs": [],
   "source": [
    "# Define bin upper bounds\n",
    "bins = np.zeros(42, dtype=np.float64)\n",
    "\n",
    "# Edge case\n",
    "bins[0] = 5000\n",
    "\n",
    "# Middle range:\n",
    "for i in range(1, 40):\n",
    "    bins[i] = (midpoint[i] + midpoint[i+1])/2\n",
    "   \n",
    "# Adjust top end of distribution\n",
    "bins[39] = 200000\n",
    "bins[40] = 250000\n",
    "bins[41] = np.inf"
   ]
  },
  {
   "cell_type": "code",
   "execution_count": 39,
   "metadata": {},
   "outputs": [
    {
     "data": {
      "text/plain": [
       "array([  5000.,  10000.,  15000.,  20000.,  25000.,  30000.,  35000.,\n",
       "        40000.,  45000.,  50000.,  55000.,  60000.,  65000.,  70000.,\n",
       "        75000.,  80000.,  85000.,  90000.,  95000., 100000., 105000.,\n",
       "       110000., 115000., 120000., 125000., 130000., 135000., 140000.,\n",
       "       145000., 150000., 155000., 160000., 165000., 170000., 175000.,\n",
       "       180000., 185000., 190000., 195000., 200000., 250000.,     inf])"
      ]
     },
     "execution_count": 39,
     "metadata": {},
     "output_type": "execute_result"
    }
   ],
   "source": [
    "bins"
   ]
  },
  {
   "cell_type": "code",
   "execution_count": 40,
   "metadata": {},
   "outputs": [],
   "source": [
    "def log_normal(x, mu, sigma):\n",
    "    ''' Define the pdf of the lognormal distribution.'''\n",
    "    pdf_val = (1/(x*sigma * np.sqrt(2 * np.pi)) *\n",
    "                    np.exp(-(np.log(x) - mu)**2 /(2 * sigma**2)))\n",
    "    return pdf_val"
   ]
  },
  {
   "cell_type": "code",
   "execution_count": 41,
   "metadata": {},
   "outputs": [],
   "source": [
    "def model_moments(bins, mu, sigma):\n",
    "    ''' This function computes the model moments for GMM. \n",
    "    We find the percentage of households in each bin using\n",
    "    the lognormal distribution.'''\n",
    "    \n",
    "    pdf_vals = np.zeros(42, dtype=np.float64)\n",
    "    # Right side value:\n",
    "    dist_1 = sts.norm.cdf(np.log(bins), mu, sigma)\n",
    "    \n",
    "    # Left side value:\n",
    "    bins_2 = np.roll(bins, 1)\n",
    "    bins_2[0] = 1e-10\n",
    "    dist_2 = sts.norm.cdf(np.log(bins_2), mu, sigma)\n",
    "    \n",
    "    pdf_vals = dist_1 - dist_2\n",
    "    \n",
    "    return pdf_vals \n",
    "\n",
    "\n",
    "def err_vec(bins, percents, mu, sigma, simple):\n",
    "    '''Computes the vector of moment errors (in percent\n",
    "    deviation from the data moment vector) for GMM.'''\n",
    "\n",
    "    moms_data = percents\n",
    "    moms_model = model_moments(bins, mu, sigma)\n",
    "    if simple:\n",
    "        err_vec = moms_model - moms_data\n",
    "    else:\n",
    "        err_vec = (moms_model - moms_data) / moms_data\n",
    "    \n",
    "    return err_vec\n",
    "\n",
    "def criterion(params, *args):\n",
    "    '''Define criterion function.'''\n",
    "    mu, sigma = params\n",
    "    bins, percents, W = args\n",
    "    err = err_vec(bins, percents, mu, sigma, False)\n",
    "    crit_val = np.dot(np.dot(err.T, W), err) \n",
    "    \n",
    "    return crit_val"
   ]
  },
  {
   "cell_type": "code",
   "execution_count": 42,
   "metadata": {},
   "outputs": [
    {
     "name": "stdout",
     "output_type": "stream",
     "text": [
      "mu_GMM1= 10.766843376404815  sig_GMM1= 0.9078416946691477\n",
      "      fun: 0.045945282528995955\n",
      " hess_inv: <2x2 LbfgsInvHessProduct with dtype=float64>\n",
      "      jac: array([-9.44383460e-07,  1.27814426e-06])\n",
      "  message: b'CONVERGENCE: NORM_OF_PROJECTED_GRADIENT_<=_PGTOL'\n",
      "     nfev: 27\n",
      "      nit: 7\n",
      "   status: 0\n",
      "  success: True\n",
      "        x: array([10.76684338,  0.90784169])\n"
     ]
    }
   ],
   "source": [
    "mu_init = np.log(avg_inc)\n",
    "sig_init = 1\n",
    "params_init = np.array([mu_init, sig_init])\n",
    "W_hat = np.diag(percent)\n",
    "gmm_args = (bins, percent, W_hat)\n",
    "results = opt.minimize(criterion, params_init, args=(gmm_args),\n",
    "                       method='L-BFGS-B', bounds=((None, None), (1e-10, None)))\n",
    "mu_GMM1, sig_GMM1 = results.x\n",
    "print('mu_GMM1=', mu_GMM1, ' sig_GMM1=', sig_GMM1)\n",
    "print(results)"
   ]
  },
  {
   "cell_type": "code",
   "execution_count": 43,
   "metadata": {},
   "outputs": [
    {
     "data": {
      "image/png": "[encoded data removed]",
      "text/plain": [
       "<Figure size 720x504 with 1 Axes>"
      ]
     },
     "metadata": {},
     "output_type": "display_data"
    }
   ],
   "source": [
    "fig = plt.figure(figsize=(10,7))\n",
    "plt.bar(midpoint/1000, modified_height, color='blue', edgecolor='k', align='center', width=widtharr)\n",
    "plt.xlabel('Thousands of Dollars')\n",
    "plt.ylabel('Percent of Population')\n",
    "plt.title('US Incomes')\n",
    "\n",
    "# Plot the estimated GMMPDF\n",
    "x = np.linspace(1e-5,350000,70)\n",
    "y = 5e3 * log_normal(x, mu_GMM1, sig_GMM1)\n",
    "plt.plot(x/1000, y,\n",
    "         linewidth=2, color='r', label='1: $\\mu_{GMM1}$,$\\sigma_{GMM1}$')\n",
    "plt.legend(loc='upper left')\n",
    "plt.show()"
   ]
  },
  {
   "cell_type": "markdown",
   "metadata": {},
   "source": [
    "## Part (c)"
   ]
  },
  {
   "cell_type": "code",
   "execution_count": 44,
   "metadata": {},
   "outputs": [],
   "source": [
    "# Define gamma distribution\n",
    "def gamma_pdf(x, alpha, beta):\n",
    "    f = (1 / (beta ** alpha * math.gamma(alpha))) * x ** (alpha - 1) * np.exp(-1 * x / beta)\n",
    "    return 5000 * f"
   ]
  },
  {
   "cell_type": "code",
   "execution_count": 45,
   "metadata": {},
   "outputs": [],
   "source": [
    "def err_vec(midpoint, percents, alpha, beta, simple):\n",
    "    '''Computes the vector of moment errors (in percent\n",
    "    deviation from the data moment vector) for GMM.'''\n",
    "\n",
    "    moms_data = percents\n",
    "    moms_model = gamma_pdf(midpoint, alpha, beta)\n",
    "    if simple:\n",
    "        err_vec = moms_model - moms_data\n",
    "    else:\n",
    "        err_vec = (moms_model - moms_data) / moms_data\n",
    "    \n",
    "    return err_vec\n",
    "\n",
    "def criterion(params, *args):\n",
    "    '''Define criterion function.'''\n",
    "    alpha, beta = params\n",
    "    percents, W = args\n",
    "    err = err_vec(midpoint, percents, alpha, beta, False)\n",
    "    crit_val = np.dot(np.dot(err.T, W), err) \n",
    "    \n",
    "    return crit_val"
   ]
  },
  {
   "cell_type": "code",
   "execution_count": 46,
   "metadata": {},
   "outputs": [
    {
     "data": {
      "text/plain": [
       "      fun: 0.04400238767191182\n",
       " hess_inv: <2x2 LbfgsInvHessProduct with dtype=float64>\n",
       "      jac: array([-2.67008637e-06, -6.93889390e-10])\n",
       "  message: b'CONVERGENCE: NORM_OF_PROJECTED_GRADIENT_<=_PGTOL'\n",
       "     nfev: 114\n",
       "      nit: 35\n",
       "   status: 0\n",
       "  success: True\n",
       "        x: array([1.42455023e+00, 4.50501213e+04])"
      ]
     },
     "execution_count": 46,
     "metadata": {},
     "output_type": "execute_result"
    }
   ],
   "source": [
    "alpha_init = 1.5\n",
    "beta_init = 10000\n",
    "params_init = np.array([alpha_init, beta_init])\n",
    "W_hat = np.diag(percent)\n",
    "gmm_args = (percent, W_hat)\n",
    "\n",
    "results = opt.minimize(criterion, params_init, args=(gmm_args),\n",
    "                       method='L-BFGS-B', bounds=((1e-8, None), (1e-8, None)))\n",
    "\n",
    "alpha_GMM_1, beta_GMM_1 = results.x\n",
    "\n",
    "results"
   ]
  },
  {
   "cell_type": "code",
   "execution_count": 47,
   "metadata": {},
   "outputs": [
    {
     "data": {
      "image/png": "[encoded data removed]",
      "text/plain": [
       "<Figure size 720x504 with 1 Axes>"
      ]
     },
     "metadata": {},
     "output_type": "display_data"
    }
   ],
   "source": [
    "fig = plt.figure(figsize=(10,7))\n",
    "plt.bar(midpoint/1000, modified_height, color='blue', edgecolor='k', align='center', width=widtharr)\n",
    "plt.xlabel('Thousands of Dollars')\n",
    "plt.ylabel('Percent of Population')\n",
    "plt.title('US Incomes')\n",
    "\n",
    "# Plot the estimated GMMPDF\n",
    "x = np.linspace(1e-5,350000,70)\n",
    "y = gamma_pdf(x, alpha_GMM_1, beta_GMM_1)\n",
    "plt.plot(x/1000, y,\n",
    "         linewidth=2, color='r', label='Gamma Distribution, GMM')\n",
    "plt.legend(loc='upper left')\n",
    "plt.show()"
   ]
  },
  {
   "cell_type": "markdown",
   "metadata": {},
   "source": [
    "## Part (d)"
   ]
  },
  {
   "cell_type": "code",
   "execution_count": 48,
   "metadata": {
    "scrolled": true
   },
   "outputs": [
    {
     "data": {
      "image/png": "[encoded data removed]",
      "text/plain": [
       "<Figure size 720x504 with 1 Axes>"
      ]
     },
     "metadata": {},
     "output_type": "display_data"
    }
   ],
   "source": [
    "fig = plt.figure(figsize=(10,7))\n",
    "plt.bar(midpoint/1000, modified_height, color='blue', edgecolor='k', align='center', width=widtharr)\n",
    "plt.xlabel('Thousands of Dollars')\n",
    "plt.ylabel('Percent of Population')\n",
    "plt.title('US Incomes')\n",
    "\n",
    "# Plot the estimated GMMPDF\n",
    "x = np.linspace(1e-5,350000,70)\n",
    "y = 5e3 * log_normal(x, mu_GMM1, sig_GMM1)\n",
    "plt.plot(x/1000, y,\n",
    "         linewidth=2, color='y', label='Lognormal Distribution, GMM')\n",
    "\n",
    "x = np.linspace(1e-5,350000,70)\n",
    "y = gamma_pdf(x, alpha_GMM_1, beta_GMM_1)\n",
    "plt.plot(x/1000, y,\n",
    "         linewidth=2, color='r', label='Gamma Distribution, GMM')\n",
    "plt.legend(loc='upper left')\n",
    "plt.show()"
   ]
  },
  {
   "cell_type": "markdown",
   "metadata": {},
   "source": [
    "The gamma distribution appears to better fit the data. The lognormal distribution seems to overestimate the percentage of households in the lower end of the income distribution."
   ]
  },
  {
   "cell_type": "markdown",
   "metadata": {},
   "source": [
    "## Part (e)"
   ]
  },
  {
   "cell_type": "code",
   "execution_count": 49,
   "metadata": {},
   "outputs": [
    {
     "data": {
      "text/plain": [
       "      fun: 0.10768539974742597\n",
       " hess_inv: <2x2 LbfgsInvHessProduct with dtype=float64>\n",
       "      jac: array([-6.56419363e-07,  0.00000000e+00])\n",
       "  message: b'CONVERGENCE: NORM_OF_PROJECTED_GRADIENT_<=_PGTOL'\n",
       "     nfev: 117\n",
       "      nit: 32\n",
       "   status: 0\n",
       "  success: True\n",
       "        x: array([1.42614856e+00, 4.42116021e+04])"
      ]
     },
     "execution_count": 49,
     "metadata": {},
     "output_type": "execute_result"
    }
   ],
   "source": [
    "alpha_init = 3.0\n",
    "beta_init = 20000\n",
    "\n",
    "params_init = np.array([alpha_init, beta_init])\n",
    "gmm_args = (percent, np.eye(42))\n",
    "results_Iden = opt.minimize(criterion, params_init, args=(gmm_args),\n",
    "                       method='L-BFGS-B', bounds=((1e-8, None), (1e-8, None)))\n",
    "\n",
    "alpha_GMM_Iden, beta_GMM_Iden = results_Iden.x\n",
    "\n",
    "W_hat2 = (1/42) * (err_vec(midpoint, percent, alpha_GMM_Iden, beta_GMM_Iden, False) @ err_vec(midpoint, percent,  alpha_GMM_Iden,  beta_GMM_Iden, False))\n",
    "\n",
    "gmm_args = (percent, W_hat2)\n",
    "\n",
    "results = opt.minimize(criterion, params_init, args=(gmm_args),\n",
    "                       method='L-BFGS-B', bounds=((1e-8, None), (1e-8, None)))\n",
    "\n",
    "alpha_GMM_2, beta_GMM_2 = results.x\n",
    "results"
   ]
  },
  {
   "cell_type": "code",
   "execution_count": 50,
   "metadata": {},
   "outputs": [
    {
     "name": "stdout",
     "output_type": "stream",
     "text": [
      "1.4245502269375907 1.4261485580715665\n"
     ]
    }
   ],
   "source": [
    "print(alpha_GMM_1, alpha_GMM_2)"
   ]
  },
  {
   "cell_type": "code",
   "execution_count": 51,
   "metadata": {},
   "outputs": [
    {
     "name": "stdout",
     "output_type": "stream",
     "text": [
      "45050.121259278676 44211.602096273586\n"
     ]
    }
   ],
   "source": [
    "print(beta_GMM_1, beta_GMM_2)"
   ]
  },
  {
   "cell_type": "markdown",
   "metadata": {},
   "source": [
    "The estimates for alpha are nearly identical. The estimates for beta differ slightly, but we would expect this since the scale for beta is different than that for alpha. We can caompre the criterion function values to compare the goodness of ﬁt of this estimated distribution versus the goodness of ﬁt of the estimated distribution in part (c). The estimated distribution in part (c) actually has a smaller criterion function value."
   ]
  },
  {
   "cell_type": "markdown",
   "metadata": {},
   "source": [
    "# Exercise 4"
   ]
  },
  {
   "cell_type": "code",
   "execution_count": 52,
   "metadata": {},
   "outputs": [],
   "source": [
    "macro = pd.read_csv('MacroSeries.txt', header=None)\n",
    "macro.columns = ['c', 'k', 'w', 'r', 'y']"
   ]
  },
  {
   "cell_type": "code",
   "execution_count": 53,
   "metadata": {},
   "outputs": [
    {
     "data": {
      "text/html": [
       "<div>\n",
       "<style scoped>\n",
       "    .dataframe tbody tr th:only-of-type {\n",
       "        vertical-align: middle;\n",
       "    }\n",
       "\n",
       "    .dataframe tbody tr th {\n",
       "        vertical-align: top;\n",
       "    }\n",
       "\n",
       "    .dataframe thead th {\n",
       "        text-align: right;\n",
       "    }\n",
       "</style>\n",
       "<table border=\"1\" class=\"dataframe\">\n",
       "  <thead>\n",
       "    <tr style=\"text-align: right;\">\n",
       "      <th></th>\n",
       "      <th>c</th>\n",
       "      <th>k</th>\n",
       "      <th>w</th>\n",
       "      <th>r</th>\n",
       "      <th>y</th>\n",
       "    </tr>\n",
       "  </thead>\n",
       "  <tbody>\n",
       "    <tr>\n",
       "      <th>0</th>\n",
       "      <td>1.128323e+07</td>\n",
       "      <td>8.040697e+06</td>\n",
       "      <td>1.120211e+07</td>\n",
       "      <td>1.008852</td>\n",
       "      <td>1.931398e+07</td>\n",
       "    </tr>\n",
       "    <tr>\n",
       "      <th>1</th>\n",
       "      <td>1.215464e+07</td>\n",
       "      <td>8.030754e+06</td>\n",
       "      <td>1.206726e+07</td>\n",
       "      <td>1.088112</td>\n",
       "      <td>2.080561e+07</td>\n",
       "    </tr>\n",
       "    <tr>\n",
       "      <th>2</th>\n",
       "      <td>1.097303e+07</td>\n",
       "      <td>8.650974e+06</td>\n",
       "      <td>1.089414e+07</td>\n",
       "      <td>0.911904</td>\n",
       "      <td>1.878300e+07</td>\n",
       "    </tr>\n",
       "    <tr>\n",
       "      <th>3</th>\n",
       "      <td>9.711635e+06</td>\n",
       "      <td>7.809971e+06</td>\n",
       "      <td>9.641815e+06</td>\n",
       "      <td>0.893986</td>\n",
       "      <td>1.662382e+07</td>\n",
       "    </tr>\n",
       "    <tr>\n",
       "      <th>4</th>\n",
       "      <td>9.245673e+06</td>\n",
       "      <td>6.912184e+06</td>\n",
       "      <td>9.179203e+06</td>\n",
       "      <td>0.961637</td>\n",
       "      <td>1.582621e+07</td>\n",
       "    </tr>\n",
       "  </tbody>\n",
       "</table>\n",
       "</div>"
      ],
      "text/plain": [
       "              c             k             w         r             y\n",
       "0  1.128323e+07  8.040697e+06  1.120211e+07  1.008852  1.931398e+07\n",
       "1  1.215464e+07  8.030754e+06  1.206726e+07  1.088112  2.080561e+07\n",
       "2  1.097303e+07  8.650974e+06  1.089414e+07  0.911904  1.878300e+07\n",
       "3  9.711635e+06  7.809971e+06  9.641815e+06  0.893986  1.662382e+07\n",
       "4  9.245673e+06  6.912184e+06  9.179203e+06  0.961637  1.582621e+07"
      ]
     },
     "execution_count": 53,
     "metadata": {},
     "output_type": "execute_result"
    }
   ],
   "source": [
    "macro.head()"
   ]
  },
  {
   "cell_type": "code",
   "execution_count": 54,
   "metadata": {},
   "outputs": [],
   "source": [
    "def calc_z(r, k, alpha):\n",
    "    ''' Calculate z from r, k, and alpha.'''\n",
    "    z = np.log(r / (alpha * k ** (alpha - 1)))\n",
    "    \n",
    "    return z"
   ]
  },
  {
   "cell_type": "code",
   "execution_count": 55,
   "metadata": {},
   "outputs": [],
   "source": [
    "def data_moments(params, data):\n",
    "    '''\n",
    "    --------------------------------------------------------------------\n",
    "    This function computes the data moments for GMM.\n",
    "    --------------------------------------------------------------------\n",
    "    '''\n",
    "    alpha, beta, rho, mu = params\n",
    "    \n",
    "    \n",
    "    # Extract capital series\n",
    "    kt = data.k\n",
    "    ktp1 = np.roll(kt, 1)\n",
    "    \n",
    "    # Extract wage series\n",
    "    wt = data.w\n",
    "    \n",
    "    # Extract consumption series\n",
    "    ct = data.c\n",
    "    ctp1 = np.roll(ct, 1)\n",
    "    \n",
    "    # Extract interest rate series\n",
    "    rt = data.r\n",
    "    \n",
    "    # Calculate z series from data\n",
    "    zt = calc_z(rt, kt, alpha)\n",
    "    ztp1 = np.roll(zt, 1)\n",
    "    \n",
    "    datamoments = calc_moments(params, zt, ztp1, ct, ctp1, ktp1, wt)\n",
    "    datamoments[0][0] = 0\n",
    "    datamoments[1][0] = 0\n",
    "    datamoments[2][0] = 0\n",
    "    datamoments[3][0] = 0\n",
    "    \n",
    "    moment_vec = np.array([np.mean(datamoments[0]), np.mean(datamoments[1]), \n",
    "                           np.mean(datamoments[2]), np.mean(datamoments[3])])\n",
    "    \n",
    "    return moment_vec\n",
    "\n",
    "\n",
    "def calc_moments(params, zt, ztp1, ct, ctp1, ktp1, wt):\n",
    "    '''\n",
    "    --------------------------------------------------------------------\n",
    "    This function computes the model moments for GMM.\n",
    "    --------------------------------------------------------------------\n",
    "    '''\n",
    "    alpha, beta, rho, mu = params\n",
    "    \n",
    "    moment1 = ztp1 - rho * zt - (1 - rho) * mu\n",
    "    moment2 = (ztp1 - rho * zt - (1 - rho) * mu) * zt\n",
    "    moment3 = (beta * alpha * np.exp(ztp1) * ktp1 ** (alpha - 1) * (ct / ctp1) - 1)\n",
    "    moment4 = (beta * alpha * np.exp(ztp1) * ktp1 ** (alpha - 1) * (ct / ctp1) - 1) * wt\n",
    "    \n",
    "    return moment1, moment2, moment3, moment4\n",
    "\n",
    "\n",
    "def criterion(params, *args):\n",
    "    '''\n",
    "    --------------------------------------------------------------------\n",
    "    This function computes the GMM weighted sum of squared moment errors\n",
    "    criterion function value given parameter values and an estimate of\n",
    "    the weighting matrix.\n",
    "    --------------------------------------------------------------------\n",
    "    '''\n",
    "    alpha, beta, rho, mu = params\n",
    "    data, W = args\n",
    "    err = data_moments(params, data)\n",
    "    crit_val = err.T @ W @ err\n",
    "    \n",
    "    return crit_val"
   ]
  },
  {
   "cell_type": "code",
   "execution_count": 56,
   "metadata": {},
   "outputs": [
    {
     "data": {
      "text/plain": [
       "      fun: 0.0025364869650749545\n",
       " hess_inv: <4x4 LbfgsInvHessProduct with dtype=float64>\n",
       "      jac: array([ 1.75967197e-03,  1.35461287e+02, -3.99814730e-06, -2.99354205e-04])\n",
       "  message: b'CONVERGENCE: REL_REDUCTION_OF_F_<=_FACTR*EPSMCH'\n",
       "     nfev: 390\n",
       "      nit: 39\n",
       "   status: 0\n",
       "  success: True\n",
       "        x: array([0.70295431, 0.96740341, 0.39778351, 5.0138766 ])"
      ]
     },
     "execution_count": 56,
     "metadata": {},
     "output_type": "execute_result"
    }
   ],
   "source": [
    "# Initial guess\n",
    "alpha = .1\n",
    "beta = .2\n",
    "rho = .2\n",
    "mu = 5\n",
    "params_guess = (alpha, beta, rho, mu)\n",
    "W = np.eye(4)\n",
    "args = macro, W\n",
    "\n",
    "results = opt.minimize(criterion, params_guess, args=args, method = 'L-BFGS-B', \n",
    "                       bounds=((1e-10, 1), (1e-10, 1), (-1, 1), (1e-10, None)))\n",
    "results"
   ]
  },
  {
   "cell_type": "markdown",
   "metadata": {},
   "source": [
    "# Exercise 5: Revisit this later"
   ]
  },
  {
   "cell_type": "code",
   "execution_count": null,
   "metadata": {},
   "outputs": [],
   "source": []
  }
 ],
 "metadata": {
  "kernelspec": {
   "display_name": "Python 3",
   "language": "python",
   "name": "python3"
  },
  "language_info": {
   "codemirror_mode": {
    "name": "ipython",
    "version": 3
   },
   "file_extension": ".py",
   "mimetype": "text/x-python",
   "name": "python",
   "nbconvert_exporter": "python",
   "pygments_lexer": "ipython3",
   "version": "3.6.5"
  }
 },
 "nbformat": 4,
 "nbformat_minor": 2
}
