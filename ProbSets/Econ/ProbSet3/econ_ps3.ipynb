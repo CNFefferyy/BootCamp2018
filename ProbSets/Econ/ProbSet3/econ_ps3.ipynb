{
 "cells": [
  {
   "cell_type": "markdown",
   "metadata": {},
   "source": [
    "# OSM Econ PS 3: OG Model\n",
    "### Rebekah Dix"
   ]
  },
  {
   "cell_type": "markdown",
   "metadata": {},
   "source": [
    "### Setup"
   ]
  },
  {
   "cell_type": "code",
   "execution_count": 1,
   "metadata": {},
   "outputs": [],
   "source": [
    "import numpy as np\n",
    "import time\n",
    "import scipy.optimize as opt\n",
    "import matplotlib.pyplot as plt\n",
    "import scipy.linalg as la"
   ]
  },
  {
   "cell_type": "markdown",
   "metadata": {},
   "source": [
    "### Parameters"
   ]
  },
  {
   "cell_type": "code",
   "execution_count": 2,
   "metadata": {},
   "outputs": [],
   "source": [
    "beta = .442\n",
    "#beta = .55\n",
    "delta = .6415\n",
    "sigma = 3\n",
    "A = 1\n",
    "alpha = .35\n",
    "\n",
    "nvec = np.array([1.0, 1.0, .2])\n",
    "\n",
    "L = 2.2\n",
    "SS_tol = .001\n",
    "\n",
    "f_params = nvec, A, alpha, delta"
   ]
  },
  {
   "cell_type": "markdown",
   "metadata": {},
   "source": [
    "### Calculate wage and interest rate"
   ]
  },
  {
   "cell_type": "code",
   "execution_count": 3,
   "metadata": {},
   "outputs": [],
   "source": [
    "def get_w(K, w_args):\n",
    "    '''This function calculates the equilibrium wage given a level\n",
    "    of aggregate capital and model parameters.'''\n",
    "    A, alpha = w_args\n",
    "    \n",
    "    w = (1 - alpha) * A * (((K) / (2.2)) ** alpha)\n",
    "    \n",
    "    return w\n",
    "\n",
    "def get_r(K, r_args):\n",
    "    '''This function calculates the equilibrium interest rate given a level\n",
    "    of aggregate capital and model parameters..'''\n",
    "    A, alpha, delta = r_args\n",
    "    \n",
    "    r = alpha * A * ((2.2 / (K)) ** (1 - alpha)) - delta\n",
    "    \n",
    "    return r"
   ]
  },
  {
   "cell_type": "markdown",
   "metadata": {},
   "source": [
    "### Exercise 2.1"
   ]
  },
  {
   "cell_type": "code",
   "execution_count": 4,
   "metadata": {},
   "outputs": [],
   "source": [
    "def feasible(f_params, bvec_guess):\n",
    "    '''This function checks the nonnegativity constraints on \n",
    "    consumption and capital for a given vector of savings.\n",
    "    \n",
    "    Parameters:\n",
    "        bvec_guess: a 2 element numpy array with a guess for the steady-state savings vector\n",
    "        f_params: a tuple with the model parameters nvec, A, alpha, delta\n",
    "    \n",
    "    Returns:\n",
    "        b_cnstr: Boolean vector of length 2, represents which element \n",
    "            of bvec_guess is likely responsible for violations of\n",
    "            nonnegativity constraints on consumption\n",
    "        c_cnstr: Boolean vector of length 3, represents violations of\n",
    "            nonnegativity constraints on consumption over three periods\n",
    "        K_cnstr: Boolean vector of length 1, represents violations of\n",
    "            nonnegativity constraints on aggregate capital\n",
    "    '''\n",
    "    \n",
    "    # unpack parameters\n",
    "    b2, b3 = bvec_guess\n",
    "    nvec, A, alpha, delta = f_params\n",
    "    \n",
    "    K_cnstr, c_cnstr, b_cnstr = np.full(1, False), np.full(3, False), np.full(2, False)\n",
    "    \n",
    "    # Calculate interest rate and wage corresponding to bvec_guess\n",
    "    w_args = A, alpha\n",
    "    r_args = A, alpha, delta\n",
    "    w = get_w(b2 + b3, w_args)\n",
    "    r = get_r(b2 + b3, r_args)\n",
    "    \n",
    "    # calculate consumption from the budget constraints\n",
    "    c_cnstr[0] = nvec[0] * w - b2 < 0 \n",
    "    c_cnstr[1] = nvec[1] * w + (1 + r) * b2 - b3 < 0\n",
    "    c_cnstr[2] = nvec[2] * w + (1 + r) * b3 < 0\n",
    "    \n",
    "    # calculate capital from market clearing condition\n",
    "    K_cnstr[0] = b2 + b3 < 0\n",
    "    \n",
    "    if c_cnstr[0] == True:\n",
    "        b_cnstr[0] = True\n",
    "    if c_cnstr[1] == True:\n",
    "        b_cnstr[0], b_cnstr[1] = True, True\n",
    "    if c_cnstr[2] == True:\n",
    "        b_cnstr[1] = True\n",
    "        \n",
    "    return b_cnstr, c_cnstr, K_cnstr"
   ]
  },
  {
   "cell_type": "markdown",
   "metadata": {},
   "source": [
    "#### Exercise 2.1 (a)"
   ]
  },
  {
   "cell_type": "code",
   "execution_count": 5,
   "metadata": {},
   "outputs": [
    {
     "data": {
      "text/plain": [
       "(array([ True, False]), array([ True, False, False]), array([False]))"
      ]
     },
     "execution_count": 5,
     "metadata": {},
     "output_type": "execute_result"
    }
   ],
   "source": [
    "bvec_guess1 = np.array([1.0, 1.2])\n",
    "feasible(f_params, bvec_guess1)"
   ]
  },
  {
   "cell_type": "markdown",
   "metadata": {},
   "source": [
    "The nonnegativity constraint on consumption in the first period is violated, likely caused by savings in the first period of 1."
   ]
  },
  {
   "cell_type": "markdown",
   "metadata": {},
   "source": [
    "#### Exercise 2.1 (b)"
   ]
  },
  {
   "cell_type": "code",
   "execution_count": 6,
   "metadata": {},
   "outputs": [
    {
     "data": {
      "text/plain": [
       "(array([False, False]), array([False, False, False]), array([False]))"
      ]
     },
     "execution_count": 6,
     "metadata": {},
     "output_type": "execute_result"
    }
   ],
   "source": [
    "bvec_guess2 = np.array([0.06, -.001])\n",
    "feasible(f_params, bvec_guess2)"
   ]
  },
  {
   "cell_type": "markdown",
   "metadata": {},
   "source": [
    "No nonnegativity constraints are violated."
   ]
  },
  {
   "cell_type": "markdown",
   "metadata": {},
   "source": [
    "#### Exercise 2.1 (c)"
   ]
  },
  {
   "cell_type": "code",
   "execution_count": 7,
   "metadata": {},
   "outputs": [
    {
     "data": {
      "text/plain": [
       "(array([False, False]), array([False, False, False]), array([False]))"
      ]
     },
     "execution_count": 7,
     "metadata": {},
     "output_type": "execute_result"
    }
   ],
   "source": [
    "bvec_guess3 = np.array([0.1, 0.1])\n",
    "feasible(f_params, bvec_guess3)"
   ]
  },
  {
   "cell_type": "markdown",
   "metadata": {},
   "source": [
    "No nonnegativity constraints are violated."
   ]
  },
  {
   "cell_type": "markdown",
   "metadata": {},
   "source": [
    "### Exercise 2.2: Calculate Steady-State Equilibrium"
   ]
  },
  {
   "cell_type": "code",
   "execution_count": 8,
   "metadata": {},
   "outputs": [],
   "source": [
    "def Eul_errs(bvec, *err_args):\n",
    "    '''This function calculates and returns the two Euler errors\n",
    "    for a given vector of savings.\n",
    "    \n",
    "    Parameters:\n",
    "        bvec_guess: a 2 element numpy array with a guess for the savings vector\n",
    "        that satisfies the intertemporal Euler equations\n",
    "        err_args: a tuple with the model parameters beta, sigma, A, alpha, delta\n",
    "        \n",
    "    Returns:\n",
    "        err1: (float) error in intertemporal Euler equation from using bvec\n",
    "        err2: (float) error in intertemporal Euler equation from using bvec\n",
    "    '''\n",
    "    \n",
    "    # Unpack parameters\n",
    "    beta, sigma, A, alpha, delta = err_args\n",
    "    b2, b3 = bvec\n",
    "    \n",
    "    # Calculate wage and interest rate for a savings vector\n",
    "    w_args = A, alpha\n",
    "    r_args = A, alpha, delta\n",
    "    w = get_w(b2 + b3, w_args) \n",
    "    r = get_r(b2 + b3, r_args) \n",
    "    \n",
    "    # Calculate consumption in each period from budget constraints\n",
    "    c1 = w - b2\n",
    "    c2 = w + (1 + r) * b2 - b3\n",
    "    c3 = (1 + r) * b3 + 0.2 * w\n",
    "    \n",
    "    # Calculate marginal utilities\n",
    "    MU1 = c1 ** (-sigma)\n",
    "    MU2 = c2 ** (-sigma)\n",
    "    MU3 = c3 ** (-sigma)\n",
    "    \n",
    "    # Calculuate errors from intertemporal Euler equations\n",
    "    err1 = MU1 - beta * (1 + r) * MU2\n",
    "    err2 = MU2 - beta * (1 + r) * MU3\n",
    "    \n",
    "    return err1, err2"
   ]
  },
  {
   "cell_type": "code",
   "execution_count": 9,
   "metadata": {},
   "outputs": [],
   "source": [
    "def get_SS(params, bvec_guess, SS_graphs):\n",
    "    '''This function solves for the steady-state equilibrium.\n",
    "    \n",
    "    Parameters:\n",
    "        params: a tuple with model parameters beta, sigma, nvec, L, A, alpha, delta, SS_tol\n",
    "        bvec_guess: a 2 element numpy array with a guess for the steady-state\n",
    "            savings vector\n",
    "        SS_graphs: (boolean) True if use wants graphs produced of steady-state levels\n",
    "            of savings and consumption\n",
    "    \n",
    "    Output:\n",
    "        A Python dictionary with the steady-state solution values for the endogenous objects\n",
    "        in the model.\n",
    "    '''\n",
    "    \n",
    "    start_time = time.clock()\n",
    "    \n",
    "    # Unpack parameters\n",
    "    b2, b3 = bvec_guess\n",
    "    beta, sigma, nvec, L, A, alpha, delta, SS_tol = params\n",
    "    \n",
    "    err_args = beta, sigma, A, alpha, delta\n",
    "    w_args = A, alpha\n",
    "    r_args = A, alpha, delta\n",
    "    \n",
    "    results_ss = opt.root(Eul_errs, bvec_guess, tol=SS_tol, args=(err_args))\n",
    "    \n",
    "    # Calculate steady-state levels of equilibrium objects\n",
    "    b_ss = results_ss.x\n",
    "    w_ss = get_w(sum(b_ss), w_args)\n",
    "    r_ss = get_r(sum(b_ss), r_args)\n",
    "    c_ss = np.array([w_ss - b_ss[0], \n",
    "                     w_ss + (1 + r_ss)*b_ss[0] - b_ss[1],\n",
    "                     (1 + r_ss)*b_ss[1] + .2 * w_ss])\n",
    "    K_ss = np.sum(b_ss)\n",
    "    Y_ss = A * (K_ss ** alpha) * (L ** (1 - alpha))\n",
    "    C_ss = Y_ss - K_ss + (1 - delta) * K_ss\n",
    "    \n",
    "    # Calcuate two Euler errors from the resulting steady-state solution\n",
    "    # and resource constraint error\n",
    "    EulErr_ss = np.array([beta * (1 + r_ss) * (c_ss[1] ** -sigma) - (c_ss[0] ** -sigma),\n",
    "                          beta * (1 + r_ss) * (c_ss[2] ** -sigma) - (c_ss[1] ** -sigma)])\n",
    "    RCerr_ss = Y_ss - C_ss - delta * K_ss\n",
    "    \n",
    "    ss_time = time.clock()\n",
    "    \n",
    "    # Create dictionary for output\n",
    "    ss_output = {\n",
    "        'b_ss': b_ss, 'c_ss': c_ss, 'w_ss': w_ss, 'r_ss': r_ss, \n",
    "        'K_ss': K_ss, 'Y_ss': Y_ss, 'C_ss': C_ss, \n",
    "        'EulErr_ss': EulErr_ss, 'RCerr_ss': RCerr_ss, \n",
    "        'ss_time': ss_time}\n",
    "     \n",
    "    # Graph steady-state levels of savings and consumption\n",
    "    if SS_graphs == True:\n",
    "        fig, ax = plt.subplots(figsize=(6,6))\n",
    "        s = np.array([1, 2, 3])\n",
    "        plt.plot(s, c_ss, label=r'$\\bar{c}_s$', marker='*')\n",
    "        plt.plot(s[1:], b_ss, label=r'$\\bar{b}_s$', marker='*')\n",
    "        plt.title(\"Steady-State Consumption and Savings\")\n",
    "        plt.legend()\n",
    "        plt.grid()\n",
    "        plt.xlabel(\"Age (s)\")\n",
    "        plt.ylabel(\"Level\")\n",
    "        plt.xticks(s)\n",
    "        plt.show()\n",
    "        \n",
    "    return ss_output"
   ]
  },
  {
   "cell_type": "code",
   "execution_count": 10,
   "metadata": {},
   "outputs": [],
   "source": [
    "params = beta, sigma, nvec, L, A, alpha, delta, SS_tol"
   ]
  },
  {
   "cell_type": "code",
   "execution_count": 11,
   "metadata": {},
   "outputs": [
    {
     "data": {
      "image/png": "[encoded data removed]",
      "text/plain": [
       "<Figure size 432x432 with 1 Axes>"
      ]
     },
     "metadata": {},
     "output_type": "display_data"
    },
    {
     "name": "stdout",
     "output_type": "stream",
     "text": [
      "{'b_ss': array([0.01931262, 0.05841243]), 'c_ss': array([0.18241333, 0.20961424, 0.24087656]), 'w_ss': 0.20172594930955895, 'r_ss': 2.433025771148647, 'K_ss': 0.07772504796372812, 'Y_ss': 0.6827647515092765, 'C_ss': 0.632904133240545, 'EulErr_ss': array([ 0.00253831, -0.0054862 ]), 'RCerr_ss': -2.0816681711721685e-17, 'ss_time': 1.554084}\n",
      "CPU times: user 674 ms, sys: 45.4 ms, total: 720 ms\n",
      "Wall time: 773 ms\n"
     ]
    }
   ],
   "source": [
    "%%time\n",
    "results_ss = get_SS(params, np.array([.1, .1]), True)\n",
    "print(results_ss)"
   ]
  },
  {
   "cell_type": "markdown",
   "metadata": {},
   "source": [
    "As shown above, computing the steady-state was almost instant."
   ]
  },
  {
   "cell_type": "code",
   "execution_count": 12,
   "metadata": {},
   "outputs": [
    {
     "data": {
      "image/png": "[encoded data removed]",
      "text/plain": [
       "<Figure size 432x432 with 1 Axes>"
      ]
     },
     "metadata": {},
     "output_type": "display_data"
    },
    {
     "data": {
      "text/plain": [
       "{'b_ss': array([0.02817716, 0.07686583]),\n",
       " 'c_ss': array([0.1959755 , 0.22861645, 0.26669351]),\n",
       " 'w_ss': 0.2241526567163615,\n",
       " 'r_ss': 1.8863668551637944,\n",
       " 'K_ss': 0.10504298717560716,\n",
       " 'Y_ss': 0.7586705304246083,\n",
       " 'C_ss': 0.6912854541514564,\n",
       " 'EulErr_ss': array([-0.00087544, -0.00013795]),\n",
       " 'RCerr_ss': -5.551115123125783e-17,\n",
       " 'ss_time': 2.281746}"
      ]
     },
     "execution_count": 12,
     "metadata": {},
     "output_type": "execute_result"
    }
   ],
   "source": [
    "beta1 = .55\n",
    "params1 = beta1, sigma, nvec, L, A, alpha, delta, SS_tol\n",
    "results_ss = get_SS(params1, np.array([.1, .1]), True)\n",
    "results_ss"
   ]
  },
  {
   "cell_type": "markdown",
   "metadata": {},
   "source": [
    "When $\\beta$ increases, the steady-state levels of savings and consumption both increase (in all ages),  wage increases, and the interest rate decreases. An increase of $\\beta$ can be interpreted as the agents becoming more patient. Thus, the increase in savings follows from this intuition. Increased savings leads to an increase in production in future periods, and thus an increase in consumption. The increase in production leads to an increase in wage and a decrease in the interest rate."
   ]
  },
  {
   "cell_type": "markdown",
   "metadata": {},
   "source": [
    "### Exercise 2.3: Time Path Iteration (TPI)"
   ]
  },
  {
   "cell_type": "code",
   "execution_count": 13,
   "metadata": {},
   "outputs": [],
   "source": [
    "# Set additional parameters needed for TPI\n",
    "T = 25\n",
    "path_tol = 1e-9\n",
    "xi = .8\n",
    "maxIter = 1000\n",
    "\n",
    "# Solve for SS savings\n",
    "results_ss = get_SS(params, np.array([.1, .1]), False)\n",
    "b2bar, b3bar = results_ss['b_ss']\n",
    "\n",
    "# Guess initial path of aggregate capital \n",
    "b21 = .8 * b2bar\n",
    "b31 = 1.1 * b3bar\n",
    "K1 = b21 + b31\n",
    "Kbar = b2bar + b3bar\n",
    "# Initial guess is a linear capital series\n",
    "Kpath = np.linspace(K1, Kbar, T)\n",
    "# Add an extra element to make time indices line up \n",
    "Kpath = np.append(Kpath, Kbar)\n",
    "\n",
    "# Get initial wage and interest rate paths\n",
    "w_args = A, alpha\n",
    "r_args = A, alpha, delta\n",
    "rpath = get_r(Kpath, r_args)\n",
    "wpath = get_w(Kpath, w_args)\n",
    "rbar = get_r(Kbar, r_args)\n",
    "wbar = get_w(Kbar, w_args)\n",
    "# Add an extra element to make time indices line up (add ss interest rate and wage)\n",
    "rpath = np.append(rpath, rbar)\n",
    "wpath = np.append(wpath, wbar)"
   ]
  },
  {
   "cell_type": "code",
   "execution_count": 14,
   "metadata": {},
   "outputs": [],
   "source": [
    "def eul_b32(b32, *err1_args):\n",
    "    \"\"\" Solve for b32 using only one intertemporal Euler Equation.\n",
    "    \n",
    "    Parameters:\n",
    "       b32: (float) a guess for the savings vector\n",
    "             that satisfies the intertemporal Euler equation\n",
    "       err1_args: a tuple with the model parameters  beta, sigma, rpath, wpath, nvec\n",
    "        \n",
    "    Returns:\n",
    "       err: (float) error in intertemporal Euler equation from using b32\n",
    "    \"\"\"\n",
    "    beta, sigma, rpath, wpath, nvec, b21 = err1_args\n",
    "    \n",
    "    # Calculate consumption in each period from budget constraints\n",
    "    c1 = wpath[0] * nvec[1] + (1 + rpath[0]) * b21 - b32\n",
    "    c2 = (1 + rpath[1]) * b32 + nvec[2] * wpath[1]\n",
    "    \n",
    "    # Calculate marginal utility of consumption\n",
    "    MU1 = c1 ** (-sigma)\n",
    "    MU2 = c2 ** (-sigma)\n",
    "    \n",
    "    # Calculate error from intertemporal Euler Equation\n",
    "    err = MU1 - beta * (1 + rpath[1]) * MU2\n",
    "    \n",
    "    return err\n",
    "    \n",
    "def eul_b2t_b3t1(bvec, *err2_args):\n",
    "    \"\"\"Solve for b_{2,t} and b_{3,t+1} for t=3,...,T+1 using two\n",
    "    intertemporal Euler Equations.\n",
    "    \n",
    "    Parameters:\n",
    "        bvec: a 2 element numpy array with a guess for the savings vector\n",
    "        that satisfies the intertemporal Euler equations\n",
    "        err2_args: a tuple with the model parameters beta, sigma, rpath, wpath, nvec\n",
    "        \n",
    "    Returns:\n",
    "        err1: (float) error in intertemporal Euler equation from using bvec\n",
    "        err2: (float) error in intertemporal Euler equation from using bvec\n",
    "    \n",
    "    \"\"\"\n",
    "    \n",
    "    # rpath has two elements: r_2 and r_3\n",
    "    # wpath has three elements: w_1, w_2, and w_3\n",
    "    beta, sigma, rpath, wpath, nvec = err2_args \n",
    "    \n",
    "    # Calculate consumption in each period from budget constraints\n",
    "    c1 = nvec[0] * wpath[0] - bvec[0]\n",
    "    c2 = nvec[1] * wpath[1] + (1 + rpath[0]) * bvec[0] - bvec[1]\n",
    "    c3 = (1 + rpath[1]) * bvec[1] + nvec[2] * wpath[2]\n",
    "    \n",
    "    # Calculate marginal utility of consumption\n",
    "    MU1 = c1 ** (-sigma)\n",
    "    MU2 = c2 ** (-sigma)\n",
    "    MU3 = c3 ** (-sigma)\n",
    "    \n",
    "    # Calculate error from intertemporal Euler Equations\n",
    "    err1 = MU1 - beta * (1 + rpath[0]) * MU2\n",
    "    err2 = MU2 - beta * (1 + rpath[1]) * MU3\n",
    "    \n",
    "    return err1, err2"
   ]
  },
  {
   "cell_type": "code",
   "execution_count": 15,
   "metadata": {},
   "outputs": [],
   "source": [
    "eps = path_tol + 1\n",
    "it = 1\n",
    "bvec_guess = np.array([.1, .1])\n",
    "\n",
    "# Solve for time-path equilibrium of aggregate capital\n",
    "while (it < maxIter and eps > path_tol):\n",
    "    bmat = np.zeros((T+1,2))\n",
    "    EulErrs = np.zeros((T+1, 2))\n",
    "    \n",
    "    bmat[0,0] = b21\n",
    "    bmat[0,1] = b31\n",
    "    \n",
    "    # Solve for b32\n",
    "    err1_args = beta, sigma, rpath[:2], wpath[:2], nvec, b21\n",
    "    result1 = opt.root(eul_b32, bmat[0,1], args=(err1_args))\n",
    "    bmat[1,1] = result1.x\n",
    "    EulErrs[1,1] = result1.fun\n",
    "    \n",
    "    # Solve for b_{2,t} and b_{3,t+1} using the twisted donut method\n",
    "    for tt in range(1,T):\n",
    "        # Solve for b_{2,t} and b_{3,t+1}\n",
    "        err2_args = beta, sigma, rpath[tt:tt+2], wpath[tt-1:tt+2], nvec\n",
    "        result2 = opt.root(eul_b2t_b3t1, bvec_guess, args=(err2_args))\n",
    "        bmat[tt,0] = result2.x[0]\n",
    "        bmat[tt+1,1] = result2.x[1]\n",
    "        EulErrs[tt,0] = result2.fun[0]\n",
    "        EulErrs[tt+1,1] = result2.fun[1]\n",
    "    \n",
    "    # Calculate maximum of the absolute values of all the Euler \n",
    "    # errors across the entire time path.\n",
    "    max_AbsEulErrs = np.abs(EulErrs).max(axis = 0)\n",
    "    \n",
    "    # Calculate new aggregate capital levels\n",
    "    Kpath_prime = bmat[:-1].sum(axis=1)\n",
    "    Kpath_prime = np.append(Kpath_prime, Kbar)\n",
    "    \n",
    "    # Calculate difference from last capital series (using L2 norm)\n",
    "    eps = la.norm(Kpath_prime - Kpath, 2)\n",
    "    \n",
    "    # Update capital series\n",
    "    Kpath_new = xi * Kpath_prime + (1 - xi) * Kpath\n",
    "    Kpath = np.copy(Kpath_new)\n",
    "    \n",
    "    # Update interest rates and wages\n",
    "    rpath = get_r(Kpath, r_args)\n",
    "    wpath = get_w(Kpath, w_args)\n",
    "    \n",
    "    it = it + 1 "
   ]
  },
  {
   "cell_type": "markdown",
   "metadata": {},
   "source": [
    "#### Maximum of the absolute values of all the Euler errors across the entire time path"
   ]
  },
  {
   "cell_type": "code",
   "execution_count": 16,
   "metadata": {},
   "outputs": [
    {
     "name": "stdout",
     "output_type": "stream",
     "text": [
      "[4.77427875e-10 1.96992289e-09]\n"
     ]
    }
   ],
   "source": [
    "print(max_AbsEulErrs)"
   ]
  },
  {
   "cell_type": "markdown",
   "metadata": {},
   "source": [
    "#### Maximum of the absolute value of all the aggregate resource constraint errors"
   ]
  },
  {
   "cell_type": "code",
   "execution_count": 17,
   "metadata": {},
   "outputs": [
    {
     "name": "stdout",
     "output_type": "stream",
     "text": [
      "0.01931368363891516\n"
     ]
    }
   ],
   "source": [
    "Yt = A * (Kpath[:-1] ** alpha) * (L **(1 - alpha))\n",
    "Ct = L * wpath[:-1] + (1 + rpath[:-1]) * bmat[:-1,0] - bmat[1:,0] + (1 + rpath[:-1]) * bmat[:-1,1] - bmat[1:,1]\n",
    "agg_RC_Err = Yt - Ct - Kpath[1:] + (1 - delta) * Kpath[:-1]\n",
    "max_agg_RC_Err = np.abs(agg_RC_Err).max()\n",
    "print(max_agg_RC_Err)"
   ]
  },
  {
   "cell_type": "markdown",
   "metadata": {},
   "source": [
    "#### Plot Equilibrium Time Paths of Aggregate Capital Stocks, Wage, and Interest Rate"
   ]
  },
  {
   "cell_type": "code",
   "execution_count": 18,
   "metadata": {},
   "outputs": [
    {
     "data": {
      "image/png": "[encoded data removed]",
      "text/plain": [
       "<Figure size 432x288 with 1 Axes>"
      ]
     },
     "metadata": {},
     "output_type": "display_data"
    },
    {
     "data": {
      "image/png": "[encoded data removed]",
      "text/plain": [
       "<Figure size 432x288 with 1 Axes>"
      ]
     },
     "metadata": {},
     "output_type": "display_data"
    },
    {
     "data": {
      "image/png": "[encoded data removed]",
      "text/plain": [
       "<Figure size 432x288 with 1 Axes>"
      ]
     },
     "metadata": {},
     "output_type": "display_data"
    }
   ],
   "source": [
    "plt.plot(Kpath, label='Aggregate Capital Stock')\n",
    "plt.hlines(Kbar, -1, T, label='SS Capital')\n",
    "plt.xlabel('Time')\n",
    "plt.ylabel('Level')\n",
    "plt.grid()\n",
    "plt.title('Equilibrium Time Path of Aggregate Capital Stock')\n",
    "plt.legend()\n",
    "plt.show()\n",
    "\n",
    "plt.plot(rpath, label='Interest Rate')\n",
    "plt.hlines(rbar, -1, T, label='SS Interest Rate')\n",
    "plt.xlabel('Time')\n",
    "plt.ylabel('Level')\n",
    "plt.grid()\n",
    "plt.title('Equilibrium Time Path of Interest Rate')\n",
    "plt.legend()\n",
    "plt.show()\n",
    "\n",
    "plt.plot(wpath, label='Wage')\n",
    "plt.hlines(wbar, -1, T, label='SS Wage')\n",
    "plt.xlabel('Time')\n",
    "plt.ylabel('Level')\n",
    "plt.grid()\n",
    "plt.title('Equilibrium Time Path of Wage')\n",
    "plt.legend()\n",
    "plt.show()"
   ]
  },
  {
   "cell_type": "markdown",
   "metadata": {},
   "source": [
    "#### How many periods did it take for the economy to get within 0.00001 of the steady-state aggregate capital stock $\\bar{K}$?"
   ]
  },
  {
   "cell_type": "code",
   "execution_count": 19,
   "metadata": {},
   "outputs": [
    {
     "data": {
      "text/plain": [
       "2"
      ]
     },
     "execution_count": 19,
     "metadata": {},
     "output_type": "execute_result"
    }
   ],
   "source": [
    "Kpath_dist_ss = np.abs(Kpath - Kbar)\n",
    "err =  .00001\n",
    "# Find first period where capital got within 0.00001 of the steady-state aggregate capital stock \n",
    "firstLoc = np.where(Kpath_dist_ss < err)[0]\n",
    "firstLoc[0]"
   ]
  },
  {
   "cell_type": "markdown",
   "metadata": {},
   "source": [
    "#### What is the period after which the aggregate capital stock never is again farther than 0.00001 away from the steady-state?"
   ]
  },
  {
   "cell_type": "code",
   "execution_count": 20,
   "metadata": {},
   "outputs": [
    {
     "data": {
      "text/plain": [
       "10"
      ]
     },
     "execution_count": 20,
     "metadata": {},
     "output_type": "execute_result"
    }
   ],
   "source": [
    "loc_cons = np.ediff1d(firstLoc) == 1\n",
    "firstLoc[-len(loc_cons)]"
   ]
  }
 ],
 "metadata": {
  "kernelspec": {
   "display_name": "Python 3",
   "language": "python",
   "name": "python3"
  },
  "language_info": {
   "codemirror_mode": {
    "name": "ipython",
    "version": 3
   },
   "file_extension": ".py",
   "mimetype": "text/x-python",
   "name": "python",
   "nbconvert_exporter": "python",
   "pygments_lexer": "ipython3",
   "version": "3.6.5"
  }
 },
 "nbformat": 4,
 "nbformat_minor": 2
}
