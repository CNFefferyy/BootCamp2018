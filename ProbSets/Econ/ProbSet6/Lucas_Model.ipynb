{
 "cells": [
  {
   "cell_type": "markdown",
   "metadata": {},
   "source": [
    "# OSM Econ Week 6: Lucas Model\n",
    "## Rebekah Dix"
   ]
  },
  {
   "cell_type": "code",
   "execution_count": 4,
   "metadata": {},
   "outputs": [],
   "source": [
    "# import statements\n",
    "import pandas as pd\n",
    "import numpy as np\n",
    "import scipy.optimize as opt\n",
    "import matplotlib.pyplot as plt\n",
    "from functools import reduce\n",
    "from functools import partial\n",
    "%matplotlib inline"
   ]
  },
  {
   "cell_type": "code",
   "execution_count": 19,
   "metadata": {},
   "outputs": [],
   "source": [
    "# Import and clean data\n",
    "headers = ['date', 'w5000']\n",
    "w5000 = pd.read_csv('data/WILL5000INDFC.csv', header=None, names=headers, skiprows=1)\n",
    "w5000['date'] = pd.to_datetime(w5000['date'])\n",
    "w5000.set_index('date', inplace=True)\n",
    "w5000['w5000'] = pd.to_numeric(w5000['w5000'], errors='coerce')\n",
    "\n",
    "pce = pd.read_csv('data/PCECC96.csv')\n",
    "pce.columns = ['date', 'pce']\n",
    "pce.set_index('date', inplace=True)\n",
    "pce['pce'] = pd.to_numeric(pce['pce'], errors='coerce')\n",
    "\n",
    "gdpdef = pd.read_csv('data/GDPDEF.csv')\n",
    "gdpdef.columns = ['date', 'gdp_deflate']\n",
    "gdpdef.set_index('date', inplace=True)\n",
    "gdpdef['gdp_deflate'] = pd.to_numeric(gdpdef['gdp_deflate'], errors='coerce')\n",
    "\n",
    "headers = ['date', 'tb3m']\n",
    "tb3m = pd.read_csv('data/TB3MS.csv', header=None, names=headers, skiprows=1)\n",
    "tb3m['date'] = pd.to_datetime(tb3m['date'])\n",
    "tb3m.set_index('date', inplace=True)\n",
    "tb3m['tb3m'] = pd.to_numeric(tb3m['tb3m'], errors='coerce')"
   ]
  },
  {
   "cell_type": "code",
   "execution_count": 20,
   "metadata": {},
   "outputs": [],
   "source": [
    "# Resample to make data quarterly \n",
    "w5000 = w5000.resample('D').asfreq()\n",
    "w5000 = w5000.fillna(method='ffill')\n",
    "w5000 = w5000.resample('Q').asfreq()\n",
    "tb3m = tb3m.resample('D').asfreq()\n",
    "tb3m = tb3m.fillna(method='ffill')\n",
    "tb3m = tb3m.resample('Q').asfreq()\n",
    "w5000.index = w5000.index + pd.DateOffset(1)\n",
    "tb3m.index = tb3m.index + pd.DateOffset(1)"
   ]
  },
  {
   "cell_type": "code",
   "execution_count": 21,
   "metadata": {},
   "outputs": [],
   "source": [
    "# Merge all data into one dataframe\n",
    "dfs = [w5000, pce, gdpdef, tb3m]\n",
    "df = reduce(lambda df1, df2: df1.merge(df2, \"outer\", left_index=True, right_index=True), dfs)\n",
    "df = df.dropna(axis=0)\n",
    "df['w5000_r'] = df['w5000'] / (df['gdp_deflate'] / 100)\n",
    "df['w5000_r_return'] = df['w5000_r'] / df['w5000_r'].shift(1)\n",
    "df['tb3m'] = df['tb3m']/100 + 1\n",
    "df.head()\n",
    "df.dropna(axis=0, inplace=True)"
   ]
  },
  {
   "cell_type": "markdown",
   "metadata": {},
   "source": [
    "# Problem 1"
   ]
  },
  {
   "cell_type": "code",
   "execution_count": 22,
   "metadata": {},
   "outputs": [],
   "source": [
    "class GMMEstimate_1(object):\n",
    "    \"\"\"\n",
    "    This class defines a GMM estimator for γ in a simple asset pricing model.\n",
    "    \n",
    "    Attributes:\n",
    "        df (dataframe) : contains consumption, returns data\n",
    "        beta (scalar) : discount factor\n",
    "    \n",
    "    \"\"\"\n",
    "    \n",
    "    def __init__(self, df, beta):\n",
    "        \n",
    "        self.df = df\n",
    "        self.beta = beta\n",
    "    \n",
    "    def objective(self, gamma):\n",
    "        mu = self.df.pce ** (-gamma)\n",
    "        m = self.beta * mu / mu.shift(1)\n",
    "        R = self.df.w5000_r_return\n",
    "        m  = m[1:]\n",
    "        R = R[1:]\n",
    "        cov = np.cov(m, R)[0, 1]\n",
    "        obj = (1 - cov - m.mean() * R.mean())\n",
    "        \n",
    "        return obj\n",
    "        \n",
    "    def estimate(self, guess):\n",
    "        gamma = opt.broyden1(self.objective, guess)\n",
    "        return gamma\n",
    "        "
   ]
  },
  {
   "cell_type": "code",
   "execution_count": 23,
   "metadata": {},
   "outputs": [],
   "source": [
    "problem1 = GMMEstimate_1(df, .99)"
   ]
  },
  {
   "cell_type": "code",
   "execution_count": 24,
   "metadata": {},
   "outputs": [
    {
     "data": {
      "text/plain": [
       "array(1.36628731)"
      ]
     },
     "execution_count": 24,
     "metadata": {},
     "output_type": "execute_result"
    }
   ],
   "source": [
    "problem1.estimate(1)"
   ]
  },
  {
   "cell_type": "markdown",
   "metadata": {},
   "source": [
    "# Problem 2"
   ]
  },
  {
   "cell_type": "markdown",
   "metadata": {},
   "source": [
    "A CRRA parameter of 1.35 doesn't seem unreasonable. We can compare with previous literature to see if our estimates are similar. This recent FED working paper (https://files.stlouisfed.org/files/htdocs/wp/2014/2014-005.pdf) estimates gamma to be 1.39. We're very close!"
   ]
  },
  {
   "cell_type": "markdown",
   "metadata": {},
   "source": [
    "# Problem 3"
   ]
  },
  {
   "cell_type": "code",
   "execution_count": 25,
   "metadata": {},
   "outputs": [],
   "source": [
    "class GMMEstimate_2(object):\n",
    "    \"\"\"\n",
    "    This class defines a GMM estimator for γ in a simple asset pricing model.\n",
    "    \n",
    "    Attributes:\n",
    "        df (dataframe) : contains consumption, returns data\n",
    "        beta (scalar) : discount factor\n",
    "    \n",
    "    \"\"\"\n",
    "    \n",
    "    def __init__(self, df, beta):\n",
    "        \n",
    "        self.df = df\n",
    "        self.beta = beta\n",
    "    \n",
    "    def objective(self, gamma):\n",
    "        mu = self.df.pce ** (-gamma)\n",
    "        m = self.beta * mu / mu.shift(1)\n",
    "        m  = m[1:]\n",
    "        rp1 = self.df.tb3m[1:]\n",
    "        err = rp1 - 1 / np.mean(m) \n",
    "        obj = np.sum(err ** 2)\n",
    "\n",
    "        return obj\n",
    "        \n",
    "    def estimate(self, guess):\n",
    "        gamma = opt.minimize(self.objective, guess, method='Nelder-Mead')\n",
    "        return gamma\n",
    "        "
   ]
  },
  {
   "cell_type": "code",
   "execution_count": 26,
   "metadata": {},
   "outputs": [],
   "source": [
    "problem3 = GMMEstimate_2(df, .99)"
   ]
  },
  {
   "cell_type": "code",
   "execution_count": 27,
   "metadata": {},
   "outputs": [
    {
     "data": {
      "text/plain": [
       " final_simplex: (array([[4.92177734],\n",
       "       [4.92167969]]), array([0.22433767, 0.22433767]))\n",
       "           fun: 0.2243376740340654\n",
       "       message: 'Optimization terminated successfully.'\n",
       "          nfev: 40\n",
       "           nit: 20\n",
       "        status: 0\n",
       "       success: True\n",
       "             x: array([4.92177734])"
      ]
     },
     "execution_count": 27,
     "metadata": {},
     "output_type": "execute_result"
    }
   ],
   "source": [
    "problem3.estimate(1)"
   ]
  },
  {
   "cell_type": "markdown",
   "metadata": {},
   "source": [
    "I couldn't get the minimization problem to converge using the Broyden method. However, switching methods, I find that $\\gamma = 4.9$ under this estimation procedure. This is a very different (much, much larger) estimate from our first attempt."
   ]
  },
  {
   "cell_type": "markdown",
   "metadata": {},
   "source": [
    "# Problem 4"
   ]
  },
  {
   "cell_type": "code",
   "execution_count": 28,
   "metadata": {},
   "outputs": [],
   "source": [
    "class GMMEstimate_3(object):\n",
    "    \"\"\"\n",
    "    This class defines a GMM estimator for γ in a simple asset pricing model.\n",
    "    \n",
    "    Attributes:\n",
    "        df (dataframe) : contains consumption, returns data\n",
    "    \n",
    "    \"\"\"\n",
    "    \n",
    "    def __init__(self, df):\n",
    "        \n",
    "        self.df = df\n",
    "    \n",
    "    def objective(self, vec):\n",
    "        \n",
    "        # Unpack parameters to estimate\n",
    "        gamma, beta = vec\n",
    "\n",
    "        # Define moments and weight matrix\n",
    "        moms = np.empty(2)\n",
    "        W = np.eye(2)\n",
    "        \n",
    "        # Calculate moment one (equation 5)\n",
    "        mu = self.df.pce ** (-gamma)\n",
    "        m = beta * mu / mu.shift(1)\n",
    "        R = self.df.w5000_r_return\n",
    "        m  = m[1:]\n",
    "        R = R[1:]\n",
    "        \n",
    "        cov = np.cov(m, R)[0, 1]\n",
    "        moms[0] = (1 - cov - m.mean() * R.mean())\n",
    "            \n",
    "        # Calculate moment two (equation 7)\n",
    "        rp1 = self.df.tb3m[1:]\n",
    "        err = rp1 - 1 / np.mean(m) \n",
    "        moms[1] = np.sum(err ** 2)\n",
    "        \n",
    "        # Calculate error\n",
    "        err = moms.T @ W @ moms\n",
    "        \n",
    "        return err\n",
    "        \n",
    "    def estimate(self, guess):\n",
    "        params = opt.minimize(self.objective, guess, method='L-BFGS-B', \n",
    "                             bounds=((1e-3, None), (1e-3, 1)))\n",
    "        return params\n",
    "        "
   ]
  },
  {
   "cell_type": "code",
   "execution_count": 29,
   "metadata": {},
   "outputs": [],
   "source": [
    "problem4 = GMMEstimate_3(df)"
   ]
  },
  {
   "cell_type": "code",
   "execution_count": 30,
   "metadata": {},
   "outputs": [
    {
     "data": {
      "text/plain": [
       "      fun: 0.05099433231604265\n",
       " hess_inv: <2x2 LbfgsInvHessProduct with dtype=float64>\n",
       "      jac: array([ 9.42301792e-06, -6.91113833e-07])\n",
       "  message: b'CONVERGENCE: NORM_OF_PROJECTED_GRADIENT_<=_PGTOL'\n",
       "     nfev: 24\n",
       "      nit: 4\n",
       "   status: 0\n",
       "  success: True\n",
       "        x: array([3.00110347, 0.9765263 ])"
      ]
     },
     "execution_count": 30,
     "metadata": {},
     "output_type": "execute_result"
    }
   ],
   "source": [
    "problem4.estimate([3, 1])"
   ]
  },
  {
   "cell_type": "markdown",
   "metadata": {},
   "source": [
    "### Plot the objective function for different $(\\beta, \\gamma)$ pairs"
   ]
  },
  {
   "cell_type": "code",
   "execution_count": 44,
   "metadata": {},
   "outputs": [],
   "source": [
    "n = 20\n",
    "N = 5\n",
    "gamma_grid = np.linspace(1, 5, n)\n",
    "beta_grid = np.linspace(0.95, 0.99, N)\n",
    "\n",
    "estimates = np.empty((n, N))\n",
    "for ii in range(n):\n",
    "    for jj in range(N):\n",
    "        estimates[ii, jj] = problem4.objective([gamma_grid[ii], beta_grid[jj]])"
   ]
  },
  {
   "cell_type": "code",
   "execution_count": 45,
   "metadata": {},
   "outputs": [
    {
     "data": {
      "image/png": "[encoded data removed]",
      "text/plain": [
       "<Figure size 720x504 with 1 Axes>"
      ]
     },
     "metadata": {},
     "output_type": "display_data"
    }
   ],
   "source": [
    "plt.figure(figsize=(10, 7))\n",
    "for jj in range(N):\n",
    "    plt.plot(gamma_grid, estimates[:, jj], label=rf'$\\beta$ = {beta_grid[jj]:.2f}')\n",
    "plt.title('Value of GMM Objective Function')\n",
    "plt.xlabel('$\\gamma$')\n",
    "plt.ylabel('Objective Function')\n",
    "plt.legend()\n",
    "plt.show()"
   ]
  },
  {
   "cell_type": "markdown",
   "metadata": {},
   "source": [
    "In this problem, we are estimating both parameters simultaneously. In this way, we're using more data at once, but we may have more troubles with convergence etc.\n",
    "\n",
    "My value of $\\gamma$ differs from both of my previous estimates. It falls in between the previous two estimates. \n",
    "\n",
    "The variability of the estimates is concerning."
   ]
  },
  {
   "cell_type": "code",
   "execution_count": null,
   "metadata": {},
   "outputs": [],
   "source": []
  }
 ],
 "metadata": {
  "kernelspec": {
   "display_name": "Python 3",
   "language": "python",
   "name": "python3"
  },
  "language_info": {
   "codemirror_mode": {
    "name": "ipython",
    "version": 3
   },
   "file_extension": ".py",
   "mimetype": "text/x-python",
   "name": "python",
   "nbconvert_exporter": "python",
   "pygments_lexer": "ipython3",
   "version": "3.6.5"
  }
 },
 "nbformat": 4,
 "nbformat_minor": 2
}
