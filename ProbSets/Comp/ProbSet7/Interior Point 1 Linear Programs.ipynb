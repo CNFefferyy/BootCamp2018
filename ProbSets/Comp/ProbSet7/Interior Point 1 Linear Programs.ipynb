{
 "cells": [
  {
   "cell_type": "code",
   "execution_count": null,
   "metadata": {},
   "outputs": [],
   "source": [
    "# import statements\n",
    "import numpy as np"
   ]
  },
  {
   "cell_type": "code",
   "execution_count": null,
   "metadata": {},
   "outputs": [],
   "source": [
    "def interiorPoint(A, b, c, niter=20, tol=1e-16):\n",
    "    \"\"\"\n",
    "    This function solves an interior point problem. \n",
    "    \"\"\"\n",
    "    \n",
    "    def create_F(x, λ, μ):\n",
    "        row1 = A.T @ λ + μ - c\n",
    "        row2 = A @ x - b\n",
    "        M = np.diag(μ)\n",
    "        row3 = M @ x\n",
    "        \n",
    "        F = np.vstack((row1, row2, row3))\n",
    "        \n",
    "        return F\n",
    "    \n",
    "    def search():\n",
    "        \n",
    "        "
   ]
  }
 ],
 "metadata": {
  "kernelspec": {
   "display_name": "Python 3",
   "language": "python",
   "name": "python3"
  },
  "language_info": {
   "codemirror_mode": {
    "name": "ipython",
    "version": 3
   },
   "file_extension": ".py",
   "mimetype": "text/x-python",
   "name": "python",
   "nbconvert_exporter": "python",
   "pygments_lexer": "ipython3",
   "version": "3.6.5"
  }
 },
 "nbformat": 4,
 "nbformat_minor": 2
}
