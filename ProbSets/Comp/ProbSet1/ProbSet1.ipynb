{
 "cells": [
  {
   "cell_type": "markdown",
   "metadata": {},
   "source": [
    "# OSM Lab: Computation Problem Set 1\n",
    "## Rebekah Dix\n",
    "### June 26th, 2018"
   ]
  },
  {
   "cell_type": "markdown",
   "metadata": {},
   "source": [
    "# Lab 4: Introduction to NumPy"
   ]
  },
  {
   "cell_type": "markdown",
   "metadata": {},
   "source": [
    "## Problem 1"
   ]
  },
  {
   "cell_type": "code",
   "execution_count": 1,
   "metadata": {},
   "outputs": [
    {
     "name": "stdout",
     "output_type": "stream",
     "text": [
      "[[ 37  14 -32 -10]\n",
      " [-54  -7  58  65]]\n"
     ]
    }
   ],
   "source": [
    "import numpy as np\n",
    "\n",
    "def multiplyMat():\n",
    "    A = np.array([[3, -1, 4], [1, 5, -9]])\n",
    "    B = np.array([[2, 6, -5, 3], [5, -8, 9, 7], [9, -3, -2, -3]])\n",
    "    return A @ B\n",
    "\n",
    "AB = multiplyMat()\n",
    "print(AB)"
   ]
  },
  {
   "cell_type": "markdown",
   "metadata": {},
   "source": [
    "## Problem 2"
   ]
  },
  {
   "cell_type": "code",
   "execution_count": 2,
   "metadata": {},
   "outputs": [
    {
     "data": {
      "text/plain": [
       "array([[0, 0, 0],\n",
       "       [0, 0, 0],\n",
       "       [0, 0, 0]])"
      ]
     },
     "execution_count": 2,
     "metadata": {},
     "output_type": "execute_result"
    }
   ],
   "source": [
    "def problem2():\n",
    "    A = np.array([[3, 1, 4], [1, 5, 9], [-5, 3, 1]])\n",
    "    result = (-1) * (A @ A @ A) + 9 * (A @ A) -15 * A\n",
    "    return result\n",
    "\n",
    "problem2()"
   ]
  },
  {
   "cell_type": "markdown",
   "metadata": {},
   "source": [
    "## Problem 3"
   ]
  },
  {
   "cell_type": "code",
   "execution_count": 3,
   "metadata": {},
   "outputs": [
    {
     "data": {
      "text/plain": [
       "array([[ -7,  -8,  -3,   8,  25,  48,  77],\n",
       "       [ -6, -12, -12,  -6,   6,  24,  48],\n",
       "       [ -5, -10, -15, -14,  -7,   6,  25],\n",
       "       [ -4,  -8, -12, -16, -14,  -6,   8],\n",
       "       [ -3,  -6,  -9, -12, -15, -12,  -3],\n",
       "       [ -2,  -4,  -6,  -8, -10, -12,  -8],\n",
       "       [ -1,  -2,  -3,  -4,  -5,  -6,  -7]])"
      ]
     },
     "execution_count": 3,
     "metadata": {},
     "output_type": "execute_result"
    }
   ],
   "source": [
    "def problem3():\n",
    "    # Create A\n",
    "    A = np.ones((7,7))\n",
    "    A = np.triu(A)\n",
    "    \n",
    "    # Create B\n",
    "    B1 = (-1) * np.ones((7,7))\n",
    "    B1 = np.tril(B1)   \n",
    "    B2 = (5) * np.ones((7,7))\n",
    "    B2 = np.triu(B2, 1)    \n",
    "    B = B1 + B2 \n",
    "    \n",
    "    # Calculate matrix product ABA\n",
    "    result = A @ B @ A\n",
    "    \n",
    "    # Change data type to np.int64\n",
    "    result = result.astype(np.int64)\n",
    "    \n",
    "    return result\n",
    "    \n",
    "problem3()"
   ]
  },
  {
   "cell_type": "markdown",
   "metadata": {},
   "source": [
    "## Problem 4"
   ]
  },
  {
   "cell_type": "code",
   "execution_count": 4,
   "metadata": {},
   "outputs": [
    {
     "data": {
      "text/plain": [
       "array([0, 0, 5, 9, 0])"
      ]
     },
     "execution_count": 4,
     "metadata": {},
     "output_type": "execute_result"
    }
   ],
   "source": [
    "def problem4(a):\n",
    "    # make a copy of the array\n",
    "    acopy = np.copy(a)\n",
    "    # set all negative entries to 0\n",
    "    indices0 = acopy < 0\n",
    "    acopy[indices0] = 0\n",
    "    \n",
    "    return acopy\n",
    "  \n",
    "a = np.array([-3, -4, 5, 9, 0])\n",
    "problem4(a)"
   ]
  },
  {
   "cell_type": "markdown",
   "metadata": {},
   "source": [
    "## Problem 5"
   ]
  },
  {
   "cell_type": "code",
   "execution_count": 5,
   "metadata": {},
   "outputs": [
    {
     "data": {
      "text/plain": [
       "array([[ 0.,  0.,  0.,  0.,  1.,  1.,  0.,  0.],\n",
       "       [ 0.,  0.,  0.,  2.,  3.,  0.,  1.,  0.],\n",
       "       [ 0.,  0.,  0.,  4.,  5.,  0.,  0.,  1.],\n",
       "       [ 0.,  2.,  4.,  0.,  0.,  0.,  0.,  0.],\n",
       "       [ 1.,  3.,  5.,  0.,  0.,  0.,  0.,  0.],\n",
       "       [ 3.,  0.,  0.,  0.,  0., -2.,  0.,  0.],\n",
       "       [ 3.,  3.,  0.,  0.,  0.,  0., -2.,  0.],\n",
       "       [ 3.,  3.,  3.,  0.,  0.,  0.,  0., -2.]])"
      ]
     },
     "execution_count": 5,
     "metadata": {},
     "output_type": "execute_result"
    }
   ],
   "source": [
    "def problem5():\n",
    "    A = np.array([[0, 2, 4], [1, 3, 5]])\n",
    "    \n",
    "    B = 3 * np.ones((3,3))\n",
    "    B = np.tril(B)\n",
    "    \n",
    "    C = np.diag([-2, -2, -2])\n",
    "\n",
    "    row1 = np.column_stack((np.zeros((3,3)), A.T, np.eye(3)))\n",
    "    row2 = np.column_stack((A, np.zeros((2,2)), np.zeros((2,3))))\n",
    "    row3 = np.column_stack((B, np.zeros((3,2)), C))\n",
    "    \n",
    "    result = np.vstack((row1, row2, row3))\n",
    "                      \n",
    "    return result\n",
    "problem5()"
   ]
  },
  {
   "cell_type": "markdown",
   "metadata": {},
   "source": [
    "## Problem 6"
   ]
  },
  {
   "cell_type": "code",
   "execution_count": 6,
   "metadata": {},
   "outputs": [
    {
     "data": {
      "text/plain": [
       "array([[0.1, 0.9],\n",
       "       [0.5, 0.5]])"
      ]
     },
     "execution_count": 6,
     "metadata": {},
     "output_type": "execute_result"
    }
   ],
   "source": [
    "def problem6(A):\n",
    "    \n",
    "    i, j = np.shape(A)\n",
    "    rowSums = np.sum(A, axis=1).reshape((j,1))\n",
    "    stochA = A / rowSums\n",
    "    \n",
    "    return stochA\n",
    "\n",
    "A = np.array([[1,9], [1, 1]])\n",
    "problem6(A)"
   ]
  },
  {
   "cell_type": "markdown",
   "metadata": {},
   "source": [
    "## Problem 7"
   ]
  },
  {
   "cell_type": "code",
   "execution_count": 7,
   "metadata": {},
   "outputs": [
    {
     "data": {
      "text/plain": [
       "70600674"
      ]
     },
     "execution_count": 7,
     "metadata": {},
     "output_type": "execute_result"
    }
   ],
   "source": [
    "def problem_7():\n",
    "    grid = np.load(\"grid.npy\")\n",
    "    \n",
    "    horizontalMax = np.max(grid[:,:-3] * grid[:,1:-2] * grid[:,2:-1] * grid[:,3:])\n",
    "    verticalMax = np.max(grid[:-3,:] * grid[1:-2,:] * grid[2:-1,:] * grid[3:,:])\n",
    "    rightDiagonalMax = np.max(grid[:-3,:-3] * grid[1:-2,1:-2] * grid[2:-1,2:-1] * grid[3:,3:])\n",
    "    leftDiagonalMax = np.max(grid[3:,:-3] * grid[2:-1,1:-2] * grid[1:-2,2:-1] * grid[:-3,3:])\n",
    "    \n",
    "    return max(horizontalMax, verticalMax, rightDiagonalMax, leftDiagonalMax)\n",
    "   \n",
    "problem_7()"
   ]
  },
  {
   "cell_type": "markdown",
   "metadata": {},
   "source": [
    "# Lab 2: The Standard Library"
   ]
  },
  {
   "cell_type": "markdown",
   "metadata": {},
   "source": [
    "## Problem 1"
   ]
  },
  {
   "cell_type": "code",
   "execution_count": 8,
   "metadata": {},
   "outputs": [
    {
     "data": {
      "text/plain": [
       "(1, 4, 2.5)"
      ]
     },
     "execution_count": 8,
     "metadata": {},
     "output_type": "execute_result"
    }
   ],
   "source": [
    "def problem1_2(L):\n",
    "    return (min(L), max(L), sum(L)/(len(L)))\n",
    "L = [1, 2, 3, 4]\n",
    "problem1_2(L)"
   ]
  },
  {
   "cell_type": "markdown",
   "metadata": {},
   "source": [
    "## Problem 2"
   ]
  },
  {
   "cell_type": "code",
   "execution_count": 9,
   "metadata": {},
   "outputs": [
    {
     "name": "stdout",
     "output_type": "stream",
     "text": [
      "Integers are mutable: False\n",
      "Strings are mutable: False\n",
      "Lists are mutable: True\n",
      "Tuples are mutable: False\n",
      "Sets are mutable: True\n"
     ]
    }
   ],
   "source": [
    "# int\n",
    "a = 3\n",
    "b = a\n",
    "b = 1\n",
    "a == b\n",
    "print('Integers are mutable: ' + str(a == b))\n",
    "\n",
    "# str\n",
    "str1 = 'Rebekah'\n",
    "str2 = str1\n",
    "str2 = 'Dix'\n",
    "str1 == str2\n",
    "print('Strings are mutable: ' + str(str1 == str2))\n",
    "\n",
    "# list \n",
    "list1 = [1, 2, 3, 4]\n",
    "list2 = list1\n",
    "list2[0] = 0\n",
    "print('Lists are mutable: ' + str(list1 == list2))\n",
    "\n",
    "# tuple\n",
    "tuple1 = (1,2)\n",
    "tuple2 = tuple1\n",
    "tuple2 += (4,)\n",
    "print('Tuples are mutable: ' + str(tuple1 == tuple2))\n",
    "\n",
    "# set\n",
    "set1 = {3, 4, 5}\n",
    "set2 = set1\n",
    "set2.add(6)\n",
    "print('Sets are mutable: ' + str(set1 == set2))"
   ]
  },
  {
   "cell_type": "markdown",
   "metadata": {},
   "source": [
    "## Problem 3"
   ]
  },
  {
   "cell_type": "markdown",
   "metadata": {},
   "source": [
    "Also see calculator.py."
   ]
  },
  {
   "cell_type": "code",
   "execution_count": 10,
   "metadata": {},
   "outputs": [
    {
     "data": {
      "text/plain": [
       "5.0"
      ]
     },
     "execution_count": 10,
     "metadata": {},
     "output_type": "execute_result"
    }
   ],
   "source": [
    "import calculator\n",
    "from math import sqrt\n",
    "\n",
    "def problem3_2(a, b):\n",
    "    h = sqrt(calculator.sumArg(calculator.prodArg(a,a), calculator.prodArg(b,b)))  \n",
    "    return h\n",
    "\n",
    "problem3_2(3,4)"
   ]
  },
  {
   "cell_type": "markdown",
   "metadata": {},
   "source": [
    "## Problem 4"
   ]
  },
  {
   "cell_type": "code",
   "execution_count": 11,
   "metadata": {},
   "outputs": [],
   "source": [
    "from itertools import combinations\n",
    "\n",
    "def problem4_2(A):\n",
    "    powerSet = []\n",
    "    for i in range(len(A) + 1):\n",
    "        addSet = combinations(A,i)\n",
    "        for item in addSet:\n",
    "            powerSet.append(set(item))\n",
    "        \n",
    "    return powerSet"
   ]
  },
  {
   "cell_type": "code",
   "execution_count": 12,
   "metadata": {},
   "outputs": [
    {
     "data": {
      "text/plain": [
       "[set(), {1}, {2}, {3}, {1, 2}, {1, 3}, {2, 3}, {1, 2, 3}]"
      ]
     },
     "execution_count": 12,
     "metadata": {},
     "output_type": "execute_result"
    }
   ],
   "source": [
    "problem4_2({1, 2, 3})"
   ]
  },
  {
   "cell_type": "markdown",
   "metadata": {},
   "source": [
    "## Problem 5"
   ]
  },
  {
   "cell_type": "markdown",
   "metadata": {},
   "source": [
    "See shut_the_box.py and box.py, which are to be run in the terminal with command line arguments."
   ]
  },
  {
   "cell_type": "markdown",
   "metadata": {},
   "source": [
    "# Lab 7: Unit Testing"
   ]
  },
  {
   "cell_type": "markdown",
   "metadata": {},
   "source": [
    "See functions_ProbSet1.py for the function definitions and test_ProbSet1.py for the required tests."
   ]
  },
  {
   "cell_type": "markdown",
   "metadata": {},
   "source": [
    "# Lab 3: Object-Oriented Programming"
   ]
  },
  {
   "cell_type": "markdown",
   "metadata": {},
   "source": [
    "### Problem 1 and Problem 3"
   ]
  },
  {
   "cell_type": "code",
   "execution_count": 13,
   "metadata": {},
   "outputs": [],
   "source": [
    "class Backpack:\n",
    "    \"\"\"A Backpack object class. Has a name and a list of contents.\n",
    "    \n",
    "    Attributes:\n",
    "        name (str): the name of the backpack's owner.\n",
    "        contents (list): the contents of the backpack.\n",
    "        color (str): the color of the backpack\n",
    "        max_size (int): the maximum number of items the backpack can hold\n",
    "        \n",
    "    \"\"\"\n",
    "\n",
    "    def __init__(self, name, color, max_size=5):     # This function is the constructor.\n",
    "        \"\"\"Set the name and initialize an empty list of contents.\n",
    "        \n",
    "        Parameters:\n",
    "            name (str): the name of the backpack's owner.\n",
    "            color (str): the color of the backpack\n",
    "            max_size (int): the maximum number of items the backpack can hold, defaults to 5\n",
    "            \n",
    "        \"\"\"\n",
    "        \n",
    "        self.name = name          # Initialize some attributes.\n",
    "        self.contents = []\n",
    "        self.color = color\n",
    "        self.max_size = max_size\n",
    "        \n",
    "    def __eq__(self, other):\n",
    "        \"\"\"Determine if two backpacks are equal. Two backpacks are equal if\n",
    "        and only if they have the same name, color, and number of contents.\n",
    "        \n",
    "        Parameters:\n",
    "            other (Backpack): the backpack with which we want to see if this\n",
    "                              backpack is equal to\n",
    "    \n",
    "        \"\"\"\n",
    "        \n",
    "        if self.name != other.name:\n",
    "            return False\n",
    "        elif self.color != other.color:\n",
    "            return False\n",
    "        elif len(self.contents) != len(other.contents):\n",
    "            return False\n",
    "        else:\n",
    "            return True\n",
    "        \n",
    "        \n",
    "    def __str__(self):\n",
    "        \"\"\" This magic method returns th string representation of an object.\"\"\"\n",
    "        \n",
    "        string = str(    \"Owner:\\t\\t\" + str(self.name)\n",
    "                     + \"\\nColor:\\t\\t\" + str(self.color)\n",
    "                     + \"\\nSize:\\t\\t\" + str(len(self.contents))\n",
    "                     + \"\\nMax Size:\\t\" + str(self.max_size)\n",
    "                     + \"\\nContents:\\t\" + str(self.contents))\n",
    "        \n",
    "        return string\n",
    "        \n",
    "    def put(self, item):\n",
    "        \"\"\"Add 'item' to the backpack's list of contents.\n",
    "        \n",
    "        Parameters:\n",
    "            item (str): the object to be added to the backpack\n",
    "        \"\"\"\n",
    "        \n",
    "        if len(self.contents) >= self.max_size:\n",
    "            Print(\"No Room!\")\n",
    "        else:\n",
    "            self.contents.append(item)     # Use 'self.contents', not just 'contents'.\n",
    "    \n",
    "    def take(self, item):\n",
    "        \"\"\"Remove 'item' from the backpack's list of contents.\n",
    "        \n",
    "        Parameters:\n",
    "            item (str): the object to be removed from the backpack\n",
    "        \n",
    "        \"\"\"\n",
    "        self.contents.remove(item)\n",
    "    \n",
    "    def dump(self):\n",
    "        \"\"\"Reset the contents of the backpack to an empty list.\"\"\"\n",
    "        \n",
    "        self.contents = []   "
   ]
  },
  {
   "cell_type": "code",
   "execution_count": 14,
   "metadata": {},
   "outputs": [
    {
     "name": "stdout",
     "output_type": "stream",
     "text": [
      "Contents:  ['pencil', 'pen', 'paper', 'computer']\n",
      "Color:  black\n",
      "Max backpack size:  10\n",
      "\n",
      "Owner:\t\tBarry\n",
      "Color:\t\tblack\n",
      "Size:\t\t4\n",
      "Max Size:\t10\n",
      "Contents:\t['pencil', 'pen', 'paper', 'computer']\n"
     ]
    }
   ],
   "source": [
    "def test_backpack():\n",
    "    \"\"\"This function instantiates and analyzes a Backpack objects.\"\"\"\n",
    "    testpack = Backpack(\"Barry\", \"black\", 10) # Instantiate the object.\n",
    "    if testpack.name != \"Barry\":          # Test an attribute.\n",
    "        print(\"Backpack.name assigned incorrectly\")\n",
    "    if testpack.color != \"black\":\n",
    "        print(\"Backpack.color assigned incorrectly\")\n",
    "    if testpack.max_size != 10:\n",
    "        print(\"Backpack.max_size assigned incorrectly\")\n",
    "    for item in [\"pencil\", \"pen\", \"paper\", \"computer\"]:\n",
    "        testpack.put(item)                # Test a method.\n",
    "    print(\"Contents: \", testpack.contents)\n",
    "    print(\"Color: \", testpack.color)\n",
    "    print(\"Max backpack size: \", testpack.max_size)\n",
    "    \n",
    "    print()\n",
    "    print(testpack)\n",
    "\n",
    "test_backpack()"
   ]
  },
  {
   "cell_type": "markdown",
   "metadata": {},
   "source": [
    "### Problem 2"
   ]
  },
  {
   "cell_type": "code",
   "execution_count": 15,
   "metadata": {},
   "outputs": [],
   "source": [
    "class Jetpack(Backpack):\n",
    "    \"\"\"A Jetpack object class. Inherits from Backpack class.\n",
    "    A Jetpack also includes fuel.\n",
    "    \n",
    "    Attributes:\n",
    "        name (str): the name of the jetpacks's owner.\n",
    "        contents (list): the contents of the jetpacks.\n",
    "        color (str): the color of the jetpacks\n",
    "        max_size (int): the maximum number of items the jetpack can hold, defaults to 2\n",
    "        fuel(int): the amount of fuel the jetpack has, defaults to 10\n",
    "    \n",
    "    \"\"\"\n",
    "    \n",
    "    def __init__(self, name, color, max_size=2, fuel=10):\n",
    "        \"\"\"Use the Backpack constructor to initialize the name, color,\n",
    "        and max_size attributes. A Jetpack only holds 2 items by default.\n",
    "\n",
    "        Parameters:\n",
    "            name (str): the name of the jetpacks's owner.\n",
    "            contents (list): the contents of the jetpacks.\n",
    "            color (str): the color of the jetpacks\n",
    "            max_size (int): the maximum number of items the jetpack can hold, defaults to 2\n",
    "            fuel(int): the amount of fuel the jetpack has, defaults to 10\n",
    "        \n",
    "        \"\"\"\n",
    "        Backpack.__init__(self, name, color, max_size)\n",
    "        self.fuel = fuel\n",
    "    \n",
    "    def fly(self, fuel):\n",
    "        \"\"\"Accepts an amount of fuel to be burned and decrements \n",
    "        the fuel attribute by that amount. If the user tries to burn more fuel than remains, \n",
    "        function prints “Not enough fuel!” and does not decrement the fuel.\n",
    "        \n",
    "        Parameters:\n",
    "            fuel (int): the amount of fuel to be burned\n",
    "        \n",
    "        \"\"\"\n",
    "        \n",
    "        if fuel > self.fuel:    # if the user tries to burn more fuel than remains\n",
    "            print(\"Not enough fuel!\")\n",
    "        else:\n",
    "            self.fuel -= fuel\n",
    "        \n",
    "    def dump(self):   # Override the dump() method.\n",
    "        \"\"\"Empties both the contents and fuel tank.\"\"\"\n",
    "        self.fuel = 0\n",
    "        self.contents = []\n",
    "            "
   ]
  },
  {
   "cell_type": "code",
   "execution_count": 16,
   "metadata": {},
   "outputs": [
    {
     "name": "stdout",
     "output_type": "stream",
     "text": [
      "Contents:  ['pencil', 'pen', 'paper', 'computer']\n",
      "Color:  blue\n",
      "Max jetpack size:  10\n",
      "Current fuel:  100\n",
      "Fuel after flying:  50\n",
      "Not enough fuel!\n",
      "Current fuel:  0\n",
      "Contents:  []\n"
     ]
    }
   ],
   "source": [
    "def test_jetpack():\n",
    "    \"\"\"This functions instantiates and analyzes a JetPack objects.\"\"\"\n",
    "    testjet = Jetpack(\"Jan\", \"blue\", 10, 100)\n",
    "    if testjet.name != \"Jan\":          # Test an attribute.\n",
    "        print(\"Backpack.name assigned incorrectly\")\n",
    "    if testjet.color != \"blue\":\n",
    "        print(\"Backpack.color assigned incorrectly\")\n",
    "    if testjet.max_size != 10:\n",
    "        print(\"Backpack.max_size assigned incorrectly\")\n",
    "    if testjet.fuel != 100:\n",
    "        print(\"Backpack.fuel assigned incorrectly\")\n",
    "    for item in [\"pencil\", \"pen\", \"paper\", \"computer\"]:\n",
    "        testjet.put(item)  \n",
    "    print(\"Contents: \", testjet.contents)\n",
    "    print(\"Color: \", testjet.color)\n",
    "    print(\"Max jetpack size: \", testjet.max_size)\n",
    "    print(\"Current fuel: \", testjet.fuel)\n",
    "    \n",
    "    testjet.fly(50)\n",
    "    print(\"Fuel after flying: \", testjet.fuel)\n",
    "    \n",
    "    testjet.fly(100)\n",
    "    \n",
    "    testjet.dump()\n",
    "    print(\"Current fuel: \", testjet.fuel)\n",
    "    print(\"Contents: \", testjet.contents)\n",
    "    \n",
    "test_jetpack()"
   ]
  },
  {
   "cell_type": "markdown",
   "metadata": {},
   "source": [
    "### Problem 4"
   ]
  },
  {
   "cell_type": "code",
   "execution_count": 17,
   "metadata": {},
   "outputs": [],
   "source": [
    "class ComplexNumber():\n",
    "    \"\"\"A class that represents complex numbers and their operations.\n",
    "    \n",
    "    Attributes:\n",
    "        real (int): an integer representing the real part of a complex number\n",
    "        imag (int): an integer representing the imaginary part of a complex number\n",
    "    \n",
    "    \"\"\"\n",
    "    \n",
    "    def __init__(self, a, b):\n",
    "        \"\"\"Set the real and imaginary parts of the complex number.\n",
    "        \n",
    "        Parameters:\n",
    "            a (int): real part of complex number\n",
    "            b (int): imaginary part of complex number\n",
    "        \"\"\"\n",
    "        \n",
    "        self.real = a\n",
    "        self.imag = b\n",
    "        \n",
    "    def __str__(self):\n",
    "        \"\"\"Return the complex number formatted as a string.\"\"\"\n",
    "        \n",
    "        if self.imag >= 0:\n",
    "            string = str(\"(\" + str(self.real) + \"+\" + str(self.imag) + \"j)\")\n",
    "        else:\n",
    "            string = str(\"(\" + str(self.real) + \"-\" + str(-self.imag) + \"j)\")\n",
    "            \n",
    "        return string\n",
    "\n",
    "    def __abs__(self):\n",
    "        \"\"\"Return the magnitude of the complex number.\"\"\"\n",
    "        \n",
    "        magnitude = math.sqrt(self.real**2 + self.imag**2)\n",
    "        return magnitude\n",
    "    \n",
    "    def __eq__(self, other):\n",
    "        \"\"\"Test if two complex numbers are equal. To be equal, they must\n",
    "        have the same real and imaginary parts.\n",
    "        \n",
    "        Parameters:\n",
    "            other (ComplexNumber): the complex number we want to see if self\n",
    "            is equal to\n",
    "        \n",
    "        \"\"\"\n",
    "        \n",
    "        # must have same real part\n",
    "        if self.real != other.real:\n",
    "            return False\n",
    "        # must have same imaginary part\n",
    "        elif self.imag != other.imag:\n",
    "            return False\n",
    "        else:\n",
    "            return True\n",
    "        \n",
    "    def __add__(self, other):\n",
    "        \"\"\"Add two complex numbers.\n",
    "        \n",
    "        Parameters:\n",
    "            other (ComplexNumber): the complex number we want to add\n",
    "            to self\n",
    "        \n",
    "        \"\"\"\n",
    "        \n",
    "        # add real parts\n",
    "        newReal = self.real + other.real\n",
    "        # add imaginary parts\n",
    "        newImag = self.imag + other.imag\n",
    "        \n",
    "        return ComplexNumber(newReal, newImag)\n",
    "    \n",
    "    def __sub__(self, other):\n",
    "        \"\"\"Subtract two complex numbers.\n",
    "        \n",
    "        Parameters:\n",
    "            other (ComplexNumber): the complex number we want to subtract\n",
    "            from self\n",
    "        \n",
    "        \"\"\"     \n",
    "        \n",
    "        # Subtract real parts\n",
    "        newReal = self.real - other.real\n",
    "        # Subtract imaginary parts\n",
    "        newImag = self.imag - other.imag\n",
    "        \n",
    "        return ComplexNumber(newReal, newImag)    \n",
    "    \n",
    "    def __mul__(self, other):\n",
    "        \"\"\"Multiply two  complex numbers.\n",
    "        \n",
    "        Parameters:\n",
    "            other (ComplexNumber): the complex number we want to multiply with self\n",
    "        \n",
    "        \"\"\"\n",
    "    \n",
    "        newReal = (self.real * other.real - self.imag * other.imag)\n",
    "        newImag = (self.real * other.imag + self.imag * other.real)\n",
    "        \n",
    "        return ComplexNumber(newReal, newImag)\n",
    "    \n",
    "    def __truediv__(self, other):       \n",
    "        \"\"\"Divide two  complex numbers.\n",
    "        \n",
    "        Parameters:\n",
    "            other (ComplexNumber): the complex number we want to divide with self\n",
    "        \n",
    "        \"\"\"\n",
    "        \n",
    "        if other.real == 0 and other.imag == 0:\n",
    "            raise ZeroDivisionError(\"cannot divide by zero\")\n",
    "        \n",
    "        denom = other.real**2 + other.imag**2\n",
    "        newReal = (self.real * other.real + self.imag * other.imag) / denom\n",
    "        newImag = (self.imag * other.real - self.real * other.imag) / denom\n",
    "        \n",
    "        return ComplexNumber(newReal, newImag)\n",
    "        \n",
    "    \n",
    "    def conjugate(self):\n",
    "        \"\"\"Calculate the complex conjugate of this complex number.\"\"\"\n",
    "        \n",
    "        return ComplexNumber(self.real, -(self.imag))\n",
    "    \n",
    "    "
   ]
  },
  {
   "cell_type": "code",
   "execution_count": 18,
   "metadata": {},
   "outputs": [
    {
     "name": "stdout",
     "output_type": "stream",
     "text": [
      "(6+9j)\n",
      "(-9+17j)\n",
      "(3.8-0.6j)\n"
     ]
    }
   ],
   "source": [
    "def test_ComplexNumber(a, b):\n",
    "    \"\"\"This function instantiates and analyzes a ComplexNumber object.\"\"\"\n",
    "    py_cnum, my_cnum = complex(a, b), ComplexNumber(a, b)\n",
    "    \n",
    "    # Validate the constructor.\n",
    "    if my_cnum.real != a or my_cnum.imag != b:\n",
    "        print(\"__init__() set self.real and self.imag incorrectly\")\n",
    "    \n",
    "    # Validate conjugate() by checking the new number's imag attribute.\n",
    "    if py_cnum.conjugate().imag != my_cnum.conjugate().imag:\n",
    "        print(\"conjugate() failed for\", py_cnum)\n",
    "    \n",
    "    # Validate __str__().\n",
    "    if str(py_cnum) != str(my_cnum):\n",
    "        print(\"__str__() failed for\", py_cnum)\n",
    "        \n",
    "    test = ComplexNumber(5, 7)\n",
    "    print(test + my_cnum)\n",
    "    print(test * my_cnum)\n",
    "    print(test / my_cnum)\n",
    "        \n",
    "test_ComplexNumber(1, 2)"
   ]
  },
  {
   "cell_type": "markdown",
   "metadata": {},
   "source": [
    "# Lab 6: Exceptions and File Input/Output"
   ]
  },
  {
   "cell_type": "markdown",
   "metadata": {},
   "source": [
    "### Problem 1"
   ]
  },
  {
   "cell_type": "code",
   "execution_count": 20,
   "metadata": {},
   "outputs": [
    {
     "name": "stdout",
     "output_type": "stream",
     "text": [
      "Enter a 3-digit number where the first and last digits differ by 2 or more: 123\n",
      "Enter the reverse of the first number, obtained by reading it backwards: 321\n",
      "Enter the positive difference of these numbers: 198\n",
      "Enter the reverse of the previous result: 891\n",
      "198 + 891 = 1089 (ta-da!)\n"
     ]
    }
   ],
   "source": [
    "def arithmagic():\n",
    "    step_1 = input(\"Enter a 3-digit number where the first and last \"\n",
    "                                       \"digits differ by 2 or more: \")\n",
    "    try:\n",
    "        value = int(step_1)\n",
    "    except ValueError:\n",
    "        print(\"You did not enter an integer.\")\n",
    "        \n",
    "    if len(step_1) != 3:\n",
    "        raise ValueError(\"You did not enter a 3-digit integer.\")\n",
    "    \n",
    "    if abs(int(step_1[0]) - int(step_1[2])) < 2:\n",
    "        raise ValueError(\"The first number's first and last digits differ by less than 2\") \n",
    "          \n",
    "    step_2 = input(\"Enter the reverse of the first number, obtained \"\n",
    "                                          \"by reading it backwards: \")\n",
    "    \n",
    "    reverseString = step_1[::-1]\n",
    "    if step_2 != reverseString:\n",
    "        raise ValueError(\"You did not reverse the first number.\")\n",
    "        \n",
    "    step_3 = input(\"Enter the positive difference of these numbers: \")\n",
    "    \n",
    "    try:\n",
    "        value = int(step_3)\n",
    "    except ValueError:\n",
    "        print(\"You did not enter an integer.\")\n",
    "        \n",
    "    posDiff = abs(int(step_1) - int(reverseString))\n",
    "    if int(step_3) != posDiff:\n",
    "        raise ValueError(\"You did not enter the positive difference of these numbers\")\n",
    "        \n",
    "    step_4 = input(\"Enter the reverse of the previous result: \")\n",
    "    \n",
    "    reverseString2 = step_3[::-1]\n",
    "    if step_4 != reverseString2:\n",
    "        raise ValueError(\"You did not reverse the third number.\")\n",
    "\n",
    "    print(str(step_3), \"+\", str(step_4), \"= 1089 (ta-da!)\")\n",
    "    \n",
    "arithmagic()\n",
    "    "
   ]
  },
  {
   "cell_type": "markdown",
   "metadata": {},
   "source": [
    "### Problem 2"
   ]
  },
  {
   "cell_type": "markdown",
   "metadata": {},
   "source": [
    "To test the code below, recall that to cause a KeyboardInterrupt exception in a Jupyter Notebook you must be in command mode and hit the i key twice."
   ]
  },
  {
   "cell_type": "code",
   "execution_count": 21,
   "metadata": {},
   "outputs": [
    {
     "name": "stdout",
     "output_type": "stream",
     "text": [
      "Process interrupted at iteration 10217575\n",
      "Value of the walk was:  -2601\n"
     ]
    },
    {
     "data": {
      "text/plain": [
       "-2601"
      ]
     },
     "execution_count": 21,
     "metadata": {},
     "output_type": "execute_result"
    }
   ],
   "source": [
    "from random import choice\n",
    "\n",
    "def random_walk(max_iters=1e12):\n",
    "    walk = 0\n",
    "    directions = [1, -1]\n",
    "    \n",
    "    try:\n",
    "        for ind, ii in enumerate(range(int(max_iters))):\n",
    "            walk += choice(directions)\n",
    "    except KeyboardInterrupt:\n",
    "        print(\"Process interrupted at iteration\", ind)\n",
    "    else:\n",
    "        print(\"Process completed.\")\n",
    "    finally:   \n",
    "        print(\"Value of the walk was: \", walk)\n",
    "        return walk\n",
    "\n",
    "random_walk()"
   ]
  },
  {
   "cell_type": "markdown",
   "metadata": {},
   "source": [
    "## Problem 3 and Problem 4"
   ]
  },
  {
   "cell_type": "code",
   "execution_count": 22,
   "metadata": {},
   "outputs": [],
   "source": [
    "class ContentFilter():\n",
    "    \"\"\"\n",
    "    \n",
    "    Attributes:\n",
    "        filename (str): the name of the file to be read\n",
    "        contents (str): the contents of the file \"filname\"\n",
    "        totalChar (int): the total number of characters in the file\n",
    "        totalAlph (int): the total number of letters in file\n",
    "        totalNum (int): the total number of digits in file\n",
    "        totalSpaces (int): the total number of spaces in file\n",
    "        totalLines (int): the total number of lines in file\n",
    "        \n",
    "     \"\"\"\n",
    "    \n",
    "    def __init__(self, filename):\n",
    "        \"\"\" Construct a file.\n",
    "        \n",
    "        Paramters:\n",
    "            filename (str): the name of the file to read\n",
    "        \n",
    "        \"\"\"\n",
    "        \n",
    "        correctFile = False\n",
    "        self.filename = filename\n",
    "        \n",
    "        while not correctFile:\n",
    "            try:\n",
    "                myFile = open(self.filename, 'r')\n",
    "            except FileNotFoundError as e:\n",
    "                self.filename = input(\"Please enter a valid file name: \")\n",
    "                continue\n",
    "            except TypeError as e:\n",
    "                self.filename = input(\"Please enter a valid file name: \")\n",
    "                continue\n",
    "            except OSError as e:\n",
    "                self.filename = input(\"Please enter a valid file name: \")\n",
    "                continue\n",
    "            else:\n",
    "                correctFile = True\n",
    "                  \n",
    "        self.filename = filename\n",
    "        self.lines = myFile.readlines()\n",
    "        \n",
    "        content = \"\"\n",
    "        for line in self.lines:\n",
    "            content += line\n",
    "            \n",
    "        self.contents = content\n",
    "            \n",
    "        self.totalLines = sum(1 for line in open(filename))\n",
    "        myFile.close()\n",
    "        \n",
    "        \n",
    "        self.totalChar = len(self.contents)\n",
    "        self.totalAlph = sum(char.isalpha() for char in self.contents)\n",
    "        self.totalNum = sum(char.isdigit() for char in self.contents)\n",
    "        self.totalSpaces = sum(char.isspace() for char in self.contents)\n",
    "        \n",
    "    def uniform(self, outfile, mode='w', case='upper'):\n",
    "        \"\"\"Write the data to the outfile with uniform case.\n",
    "        \n",
    "        Parameters:\n",
    "            outfile (str): the name of the file to write to\n",
    "            mode (str): the file access mode, either 'w', 'x', or 'a'; \n",
    "                        defaults to 'w'\n",
    "            case (str): the case in which the text will be written to outfile; \n",
    "                        defaults to 'upper'\n",
    "            \n",
    "        \"\"\"\n",
    "        \n",
    "        if mode not in ['w', 'x', 'a']:\n",
    "            raise ValueError(\"Mode must be either w, x, or a.\")\n",
    "        if case not in ['upper', 'lower']:\n",
    "            raise ValueError(\"Case must be either upper or lower.\")\n",
    "        try:\n",
    "            myFileOut = open(outfile, mode)\n",
    "\n",
    "            if case == \"upper\":\n",
    "                for line in self.contents:\n",
    "                    myFileOut.write(line.upper())\n",
    "            elif case == \"lower\":\n",
    "                for line in self.contents:\n",
    "                    myFileOut.write(line.lower())\n",
    "        finally:\n",
    "            myFileOut.close()\n",
    "            \n",
    "    def reverse(self, outfile, mode='w', unit='line'):\n",
    "        \"\"\"Write the data to the outfile in reverse order.\n",
    "        \n",
    "        Parameters:\n",
    "            outfile (str): the name of the file to write to\n",
    "            mode (str): the file access mode, either 'w', 'x', or 'a'; \n",
    "                        defaults to 'w'\n",
    "            unit (str): If unit=\"word\", reverse the ordering of the words in each line, \n",
    "                        but write the lines in the same order as the original ﬁle. \n",
    "                        If unit=\"line\", reverse the ordering of the lines, \n",
    "                        but do not change the ordering of the words on each individual line. \n",
    "                        If unit is not one of these two values, raise a ValueError. \n",
    "                        Defaults to \"line.\"\n",
    "            \n",
    "        \"\"\"    \n",
    "        if mode not in ['w', 'x', 'a']:\n",
    "            raise ValueError(\"Mode must be either w, x, or a.\")\n",
    "        \n",
    "        if unit not in [\"line\", \"word\"]:\n",
    "            raise ValueError(\"unit must be either line or word\")\n",
    "            \n",
    "        try:\n",
    "            myFileOut = open(outfile, mode)\n",
    "\n",
    "            if unit == \"line\":\n",
    "                for i in range(len(self.lines)):\n",
    "                    myFileOut.write(self.lines[-(i+1)])\n",
    "            elif unit == \"word\":\n",
    "                for line in self.lines: \n",
    "                    words = line.split()\n",
    "                    line_rev = \" \".join(reversed(words)) + '\\n'\n",
    "                    myFileOut.write(line_rev)\n",
    "        finally:\n",
    "            myFileOut.close()       \n",
    "        \n",
    "    def transpose(self, outfile, mode='w'):\n",
    "        \"\"\"Write a transposed version of the data to the outfile.\n",
    "        This means writing the first word of each line of the data to the\n",
    "        first line of the new file, the second word of each line of the data\n",
    "        to the second line of the new file, and so on. \n",
    "        \n",
    "        We assume that there are an equal number of words on each line\n",
    "        of the input file.\n",
    "        \n",
    "        Parameters:\n",
    "            outfile (str): the name of the file to write to\n",
    "            mode (str): the file access mode, either 'w', 'x', or 'a'; \n",
    "                        defaults to 'w'\n",
    "            \n",
    "        \"\"\"   \n",
    "        \n",
    "        if mode not in ['w', 'x', 'a']:\n",
    "            raise ValueError(\"Mode must be either w, x, or a.\")\n",
    "            \n",
    "        try:\n",
    "            myFileOut = open(outfile, mode)\n",
    "            wordMat = []\n",
    "            \n",
    "            for line in self.lines:\n",
    "                words = line.split()\n",
    "                wordMat.append(words)\n",
    "            \n",
    "            wordMat2 = np.array(wordMat)\n",
    "            wordMatT = wordMat2.T\n",
    "            \n",
    "            for row in wordMatT:\n",
    "                nextline = \" \".join(row)\n",
    "                myFileOut.write(nextline + \"\\n\")\n",
    "            \n",
    "        finally:\n",
    "            myFileOut.close()\n",
    "        \n",
    "    def __str__(self):\n",
    "        \"\"\"Returns a string with characters of the file.\"\"\"\n",
    "        \n",
    "        string = (\"Source file:\\t\\t\\t\" + self.filename +\n",
    "                 \"\\nTotal characters:\\t\\t\" + str(self.totalChar) +\n",
    "                 \"\\nAlphabetic characters:\\t\\t\" + str(self.totalAlph) +\n",
    "                 \"\\nNumerical characters:\\t\\t\" + str(self.totalNum) +\n",
    "                 \"\\nWhitespace characters:\\t\\t\" + str(self.totalSpaces) +\n",
    "                 \"\\nNumber of lines:\\t\\t\" + str(self.totalLines))\n",
    "        \n",
    "        return string"
   ]
  },
  {
   "cell_type": "code",
   "execution_count": 23,
   "metadata": {},
   "outputs": [],
   "source": [
    "cf1 = ContentFilter(\"test.txt\")\n",
    "cf1.uniform(\"uniform.txt\", case=\"lower\")\n",
    "cf1.reverse(\"reverse.txt\", unit=\"word\")\n",
    "cf1.transpose(\"transpose.txt\")"
   ]
  },
  {
   "cell_type": "code",
   "execution_count": null,
   "metadata": {},
   "outputs": [],
   "source": []
  }
 ],
 "metadata": {
  "kernelspec": {
   "display_name": "Python 3",
   "language": "python",
   "name": "python3"
  },
  "language_info": {
   "codemirror_mode": {
    "name": "ipython",
    "version": 3
   },
   "file_extension": ".py",
   "mimetype": "text/x-python",
   "name": "python",
   "nbconvert_exporter": "python",
   "pygments_lexer": "ipython3",
   "version": "3.6.5"
  }
 },
 "nbformat": 4,
 "nbformat_minor": 2
}
