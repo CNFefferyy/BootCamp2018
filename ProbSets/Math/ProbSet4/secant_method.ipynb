{
 "cells": [
  {
   "cell_type": "markdown",
   "metadata": {},
   "source": [
    "# Exercise 6.15: The Secant Method"
   ]
  },
  {
   "cell_type": "code",
   "execution_count": 1,
   "metadata": {},
   "outputs": [],
   "source": [
    "import numpy as np\n",
    "import matplotlib.pyplot as plt"
   ]
  },
  {
   "cell_type": "code",
   "execution_count": 2,
   "metadata": {},
   "outputs": [],
   "source": [
    "def secant(x, x1, eps, fprime):\n",
    "    \n",
    "    MaxIter = 3000\n",
    "    it = 1\n",
    "    \n",
    "    xkm1 = x\n",
    "    xk = x1\n",
    "    \n",
    "    converged = False\n",
    "    while not converged and it < MaxIter:\n",
    "        \n",
    "        update = fprime(xk) * ((xk - xkm1) / (fprime(xk) - fprime(xkm1)))\n",
    "        xk1 = xk - update\n",
    "                               \n",
    "        if np.abs(xk1 - xk) < np.abs(xk) * eps:\n",
    "            converged = True\n",
    "        else: \n",
    "            converged = False\n",
    "        \n",
    "        xkm1 = xk\n",
    "        xk = xk1\n",
    "        \n",
    "        it = it + 1\n",
    "    \n",
    "    return xk1"
   ]
  },
  {
   "cell_type": "markdown",
   "metadata": {},
   "source": [
    "### Test Function"
   ]
  },
  {
   "cell_type": "code",
   "execution_count": 3,
   "metadata": {},
   "outputs": [],
   "source": [
    "def test_prime(x):\n",
    "    return 4 * x ** 3 - 42 * x **2 + 120 * x - 70"
   ]
  },
  {
   "cell_type": "code",
   "execution_count": 4,
   "metadata": {},
   "outputs": [],
   "source": [
    "point = secant(0, .1, 1e-5, test_prime)"
   ]
  },
  {
   "cell_type": "code",
   "execution_count": 5,
   "metadata": {},
   "outputs": [
    {
     "data": {
      "text/plain": [
       "0.7808840530772693"
      ]
     },
     "execution_count": 5,
     "metadata": {},
     "output_type": "execute_result"
    }
   ],
   "source": [
    "point"
   ]
  },
  {
   "cell_type": "code",
   "execution_count": 6,
   "metadata": {},
   "outputs": [
    {
     "data": {
      "image/png": "[encoded data removed]",
      "text/plain": [
       "<Figure size 432x288 with 1 Axes>"
      ]
     },
     "metadata": {},
     "output_type": "display_data"
    }
   ],
   "source": [
    "x = np.linspace(-.3, 7.7, 100)\n",
    "def f(x):\n",
    "    return x ** 4 - 14 * x ** 3 + 60 * x ** 2 - 70 * x\n",
    "plt.plot(x, f(x))\n",
    "plt.show()"
   ]
  },
  {
   "cell_type": "markdown",
   "metadata": {},
   "source": [
    "Our method seems to have found the global minimum!"
   ]
  },
  {
   "cell_type": "code",
   "execution_count": null,
   "metadata": {},
   "outputs": [],
   "source": []
  }
 ],
 "metadata": {
  "kernelspec": {
   "display_name": "Python 3",
   "language": "python",
   "name": "python3"
  },
  "language_info": {
   "codemirror_mode": {
    "name": "ipython",
    "version": 3
   },
   "file_extension": ".py",
   "mimetype": "text/x-python",
   "name": "python",
   "nbconvert_exporter": "python",
   "pygments_lexer": "ipython3",
   "version": "3.6.5"
  }
 },
 "nbformat": 4,
 "nbformat_minor": 2
}
