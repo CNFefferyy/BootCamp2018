{
 "cells": [
  {
   "cell_type": "code",
   "execution_count": 17,
   "metadata": {},
   "outputs": [
    {
     "data": {
      "text/plain": [
       "    fjac: array([[-1.]])\n",
       "     fun: array([0.])\n",
       " message: 'The solution converged.'\n",
       "    nfev: 12\n",
       "     qtf: array([9.52251611e-11])\n",
       "       r: array([-2.11524304])\n",
       "  status: 1\n",
       " success: True\n",
       "       x: array([0.9576977])"
      ]
     },
     "execution_count": 17,
     "metadata": {},
     "output_type": "execute_result"
    }
   ],
   "source": [
    "import numpy as np\n",
    "import scipy.optimize as opt\n",
    "\n",
    "# set parameters and exogenous variables\n",
    "n_vec = np.array([1.0, 1.0, .2])\n",
    "r_path = np.array([.04, .05, .051])\n",
    "w_path = np.array([1.2, 1.18, 1.17])\n",
    "beta = .9\n",
    "# what should sigma be?\n",
    "# if sigma 1 or less than 1, then people don't take enough risk?\n",
    "# calibration fights in macro over sigma (see if your results are sensitive to this param)\n",
    "sigma = 2.2\n",
    "\n",
    "b_2tp1 = 1.0\n",
    "    \n",
    "def Eul_err2(b3, *args):\n",
    "    n_vec, r_path, w_path, beta, sigma, b_2 = args\n",
    "    \n",
    "    c2 = (1 + r_path[0]) * b_2 + w_path[0] * n_vec[0] - b3\n",
    "    c3 = (1 + r_path[1]) * b3 + w_path[1] * n_vec[1]\n",
    "    \n",
    "    MU2 = c2 ** (-sigma)\n",
    "    MU3 = c3 ** (-sigma)\n",
    "\n",
    "    eul_err = MU2 - beta * (1 + r_path[1]) * MU3\n",
    "    \n",
    "    return eul_err\n",
    "\n",
    "b3_init = .1\n",
    "b3_args = (n_vec[1:], r_path[1:], w_path[1:], beta, sigma, b_2tp1)\n",
    "\n",
    "# basic structure of root finder\n",
    "results_b3 = opt.root(Eul_err2, b3_init, args=(b3_args))\n",
    "results_b3"
   ]
  },
  {
   "cell_type": "code",
   "execution_count": null,
   "metadata": {},
   "outputs": [],
   "source": [
    "def get_w(bvec, w_args):\n",
    "    b2, b3 = bvec\n",
    "    alpha, A, nvec = w_args\n",
    "    \n",
    "    return w\n",
    "\n",
    "def get_r(bvec, r_args):\n",
    "    pass\n",
    "\n",
    "def Eul_errs(bvec, *arg):\n",
    "    # call get_w and get_r\n",
    "    # eul_err is 2 element vector which equals the difference of two equations for SS\n",
    "    pass\n",
    "    #return eul_err\n",
    "\n",
    "results_ss = opt.root(Eul_errs, init_vals, args=())"
   ]
  }
 ],
 "metadata": {
  "kernelspec": {
   "display_name": "Python 3",
   "language": "python",
   "name": "python3"
  },
  "language_info": {
   "codemirror_mode": {
    "name": "ipython",
    "version": 3
   },
   "file_extension": ".py",
   "mimetype": "text/x-python",
   "name": "python",
   "nbconvert_exporter": "python",
   "pygments_lexer": "ipython3",
   "version": "3.6.5"
  }
 },
 "nbformat": 4,
 "nbformat_minor": 2
}
