{
 "cells": [
  {
   "cell_type": "markdown",
   "metadata": {},
   "source": [
    "### Setup"
   ]
  },
  {
   "cell_type": "code",
   "execution_count": 1,
   "metadata": {},
   "outputs": [],
   "source": [
    "import numpy as np\n",
    "import time\n",
    "import scipy.optimize as opt\n",
    "import matplotlib.pyplot as plt"
   ]
  },
  {
   "cell_type": "markdown",
   "metadata": {},
   "source": [
    "### Parameters"
   ]
  },
  {
   "cell_type": "code",
   "execution_count": 2,
   "metadata": {},
   "outputs": [],
   "source": [
    "beta = .442\n",
    "#beta = .55\n",
    "delta = .6415\n",
    "sigma = 3\n",
    "A = 1\n",
    "alpha = .35\n",
    "\n",
    "nvec = np.array([1.0, 1.0, .2])\n",
    "\n",
    "f_params = nvec, A, alpha, delta"
   ]
  },
  {
   "cell_type": "code",
   "execution_count": 3,
   "metadata": {},
   "outputs": [],
   "source": [
    "def get_w(bvec, w_args):\n",
    "    b2, b3 = bvec\n",
    "    A, alpha = w_args\n",
    "    \n",
    "    w = (1 - alpha) * A * (((b2+ b3) / (2.2)) ** alpha)\n",
    "    \n",
    "    return w\n",
    "\n",
    "def get_r(bvec, r_args):\n",
    "    b2, b3 = bvec\n",
    "    A, alpha, delta = r_args\n",
    "    \n",
    "    r = alpha * A * ((2.2 / (b2 + b3)) ** (1 - alpha)) - delta\n",
    "    \n",
    "    return r"
   ]
  },
  {
   "cell_type": "code",
   "execution_count": 4,
   "metadata": {},
   "outputs": [],
   "source": [
    "def feasible(f_params, bvec_guess):\n",
    "    b2, b3 = bvec_guess\n",
    "    nvec, A, alpha, delta = f_params\n",
    "    \n",
    "    K_cnstr = np.full(1, False)\n",
    "    c_cnstr = np.full(3, False)\n",
    "    b_cnstr = np.full(2, False)\n",
    "    \n",
    "    w_args = A, alpha\n",
    "    r_args = A, alpha, delta\n",
    "    \n",
    "    w = get_w(bvec_guess, w_args)\n",
    "    r = get_r(bvec_guess, r_args)\n",
    "    \n",
    "    c_cnstr[0] = w - b2 < 0 \n",
    "    c_cnstr[1] = w + (1 + r) * b2 - b3 < 0\n",
    "    c_cnstr[2] = .2*w + (1 + r) * b3 < 0\n",
    "    \n",
    "    K_cnstr[0] = b2 + b3 < 0\n",
    "    \n",
    "    if c_cnstr[0] == True:\n",
    "        b_cnstr[0] = True\n",
    "    if c_cnstr[1] == True:\n",
    "        b_cnstr[0], b_cnstr[1] = True, True\n",
    "    if c_cnstr[2] == True:\n",
    "        b_cnstr[1] = True\n",
    "        \n",
    "    return b_cnstr, c_cnstr, K_cnstr"
   ]
  },
  {
   "cell_type": "code",
   "execution_count": 5,
   "metadata": {},
   "outputs": [
    {
     "data": {
      "text/plain": [
       "(array([ True, False]), array([ True, False, False]), array([False]))"
      ]
     },
     "execution_count": 5,
     "metadata": {},
     "output_type": "execute_result"
    }
   ],
   "source": [
    "bvec_guess1 = np.array([1.0, 1.2])\n",
    "bvec_guess2 = np.array([0.06, -.001])\n",
    "bvec_guess3 = np.array([0.1, 0.1])\n",
    "\n",
    "feasible(f_params, bvec_guess1)\n",
    "#feasible(f_params, bvec_guess2)\n",
    "#feasible(f_params, bvec_guess3)"
   ]
  },
  {
   "cell_type": "code",
   "execution_count": 6,
   "metadata": {},
   "outputs": [],
   "source": [
    "def Eul_errs(bvec, *err_args):\n",
    "    \n",
    "    beta, sigma, A, alpha, delta = err_args\n",
    "    b2, b3 = bvec\n",
    "    \n",
    "    w_args = A, alpha\n",
    "    r_args = A, alpha, delta\n",
    "    \n",
    "    w = get_w(bvec, w_args) \n",
    "    r = get_r(bvec, r_args) \n",
    "    \n",
    "    c1 = w - b2\n",
    "    c2 = w + (1 + r) * b2 - b3\n",
    "    c3 = (1 + r) * b3 + 0.2 * w\n",
    "    \n",
    "    MU1 = c1 ** (-sigma)\n",
    "    MU2 = c2 ** (-sigma)\n",
    "    MU3 = c3 ** (-sigma)\n",
    "    \n",
    "    err1 = MU1 - beta * (1 + r) * MU2\n",
    "    err2 = MU2 - beta * (1 + r) * MU3\n",
    "    \n",
    "    return err1, err2"
   ]
  },
  {
   "cell_type": "code",
   "execution_count": 7,
   "metadata": {},
   "outputs": [],
   "source": [
    "def get_SS(params, bvec_guess, SS_graphs):\n",
    "    start_time = time.clock()\n",
    "    \n",
    "    b2, b3 = bvec_guess\n",
    "    beta, sigma, nvec, L, A, alpha, delta, SS_tol = params\n",
    "    \n",
    "    err_args = beta, sigma, A, alpha, delta\n",
    "    w_args = A, alpha\n",
    "    r_args = A, alpha, delta\n",
    "    \n",
    "    results_ss = opt.root(Eul_errs, bvec_guess, tol=SS_tol, args=(err_args))\n",
    "    \n",
    "    b_ss = results_ss.x\n",
    "    w_ss = get_w(b_ss, w_args)\n",
    "    r_ss = get_r(b_ss, r_args)\n",
    "    c_ss = np.array([w_ss - b_ss[0], \n",
    "                     w_ss + (1 + r_ss)*b_ss[0] - b_ss[1],\n",
    "                     (1 + r_ss)*b_ss[1] + .2 * w_ss])\n",
    "    K_ss = np.sum(b_ss)\n",
    "    Y_ss = A * (K_ss ** alpha) * (L ** (1 - alpha))\n",
    "    C_ss = Y_ss - K_ss + (1 - delta) * K_ss\n",
    "    \n",
    "    # are these errors returned by the root finder?\n",
    "    EulErr_ss = np.array([beta * (1 + r_ss) * (c_ss[1] ** -sigma) - (c_ss[0] ** -sigma),\n",
    "                          beta * (1 + r_ss) * (c_ss[2] ** -sigma) - (c_ss[1] ** -sigma)])\n",
    "    RCerr_ss = Y_ss - C_ss - delta * K_ss\n",
    "    \n",
    "    ss_time = time.clock()\n",
    "    \n",
    "    ss_output = {\n",
    "        'b_ss': b_ss, 'c_ss': c_ss, 'w_ss': w_ss, 'r_ss': r_ss, \n",
    "        'K_ss': K_ss, 'Y_ss': Y_ss, 'C_ss': C_ss, \n",
    "        'EulErr_ss': EulErr_ss, 'RCerr_ss': RCerr_ss, \n",
    "        'ss_time': ss_time}\n",
    "     \n",
    "    if SS_graphs == True:\n",
    "        fig, ax = plt.subplots(figsize=(6,6))\n",
    "        s = np.array([1, 2, 3])\n",
    "        plt.plot(s, c_ss, label=r'$\\bar{c}_s$')\n",
    "        plt.plot(s[1:], b_ss, label=r'$\\bar{b}_s$')\n",
    "        plt.title(\"Steady-State Consumption and Savings\")\n",
    "        plt.legend()\n",
    "        plt.xlabel(\"Age (s)\")\n",
    "        plt.ylabel(\"Level\")\n",
    "        plt.xticks(s)\n",
    "        plt.show()\n",
    "        \n",
    "    return ss_output"
   ]
  },
  {
   "cell_type": "code",
   "execution_count": 8,
   "metadata": {},
   "outputs": [],
   "source": [
    "L = 2.2\n",
    "SS_tol = .001\n",
    "params = beta, sigma, nvec, L, A, alpha, delta, SS_tol"
   ]
  },
  {
   "cell_type": "code",
   "execution_count": 9,
   "metadata": {},
   "outputs": [
    {
     "data": {
      "image/png": "[encoded data removed]",
      "text/plain": [
       "<Figure size 432x432 with 1 Axes>"
      ]
     },
     "metadata": {},
     "output_type": "display_data"
    },
    {
     "data": {
      "text/plain": [
       "{'b_ss': array([0.01931262, 0.05841243]),\n",
       " 'c_ss': array([0.18241333, 0.20961424, 0.24087656]),\n",
       " 'w_ss': 0.20172594930955895,\n",
       " 'r_ss': 2.433025771148647,\n",
       " 'K_ss': 0.07772504796372812,\n",
       " 'Y_ss': 0.6827647515092765,\n",
       " 'C_ss': 0.632904133240545,\n",
       " 'EulErr_ss': array([ 0.00253831, -0.0054862 ]),\n",
       " 'RCerr_ss': -2.0816681711721685e-17,\n",
       " 'ss_time': 1.406102}"
      ]
     },
     "execution_count": 9,
     "metadata": {},
     "output_type": "execute_result"
    }
   ],
   "source": [
    "results_ss = get_SS(params, np.array([.1, .1]), True)\n",
    "results_ss"
   ]
  },
  {
   "cell_type": "code",
   "execution_count": null,
   "metadata": {},
   "outputs": [],
   "source": []
  },
  {
   "cell_type": "code",
   "execution_count": null,
   "metadata": {},
   "outputs": [],
   "source": []
  }
 ],
 "metadata": {
  "kernelspec": {
   "display_name": "Python 3",
   "language": "python",
   "name": "python3"
  },
  "language_info": {
   "codemirror_mode": {
    "name": "ipython",
    "version": 3
   },
   "file_extension": ".py",
   "mimetype": "text/x-python",
   "name": "python",
   "nbconvert_exporter": "python",
   "pygments_lexer": "ipython3",
   "version": "3.6.5"
  }
 },
 "nbformat": 4,
 "nbformat_minor": 2
}
